{
 "cells": [
  {
   "cell_type": "code",
   "execution_count": 13,
   "metadata": {},
   "outputs": [],
   "source": [
    "import pandas as pd\n",
    "import pandas as pd\n",
    "import matplotlib.pyplot as plt\n",
    "import seaborn as sns\n",
    "\n",
    "%matplotlib inline\n",
    "\n",
    "\n",
    "import datetime\n",
    "import glob\n",
    "\n",
    "\n",
    "import nltk\n",
    "import string, re\n",
    "\n",
    "from sklearn.feature_extraction.text import TfidfVectorizer\n",
    "\n",
    "\n",
    "\n",
    "stopwords = nltk.corpus.stopwords.words('english')\n",
    "ps = nltk.PorterStemmer()\n",
    "wl = nltk.stem.WordNetLemmatizer()\n",
    "\n"
   ]
  },
  {
   "cell_type": "code",
   "execution_count": 14,
   "metadata": {},
   "outputs": [],
   "source": [
    "covid_words = open(\"data/covid_words.txt\").read().split()\n",
    "religious_words = list(pd.read_csv('data/religious_words_final_df.csv').religious_words)\n",
    "\n",
    "\n",
    "\n",
    "###########################################################\n",
    "# df = pd.DataFrame()\n",
    "# for fname in glob.glob(r\"data/twitter_data/*.csv\"):\n",
    "#     day_df=pd.read_csv(fname)\n",
    "#     day_df['date']= datetime.date(2020, 5, int(fname.partition(\"May\")[2][:-4]))\n",
    "#     df=df.append(day_df)\n",
    "#     # print(fname, fname.partition(\"May\")[2][:-4], len(df))\n",
    "\n",
    "# df.to_csv('data/twitter_data/covid_data_full.csv', index=false)\n",
    "###########################################################\n",
    "\n",
    "\n",
    "\n",
    "\n",
    "###########################################################\n",
    "# f = open('data/religious_final_words.txt', 'w')\n",
    "# f.write(' '.join(sorted(religious_words)))\n",
    "# f.close()\n",
    "###########################################################"
   ]
  },
  {
   "cell_type": "code",
   "execution_count": 19,
   "metadata": {},
   "outputs": [
    {
     "data": {
      "text/html": [
       "<div>\n",
       "<style scoped>\n",
       "    .dataframe tbody tr th:only-of-type {\n",
       "        vertical-align: middle;\n",
       "    }\n",
       "\n",
       "    .dataframe tbody tr th {\n",
       "        vertical-align: top;\n",
       "    }\n",
       "\n",
       "    .dataframe thead th {\n",
       "        text-align: right;\n",
       "    }\n",
       "</style>\n",
       "<table border=\"1\" class=\"dataframe\">\n",
       "  <thead>\n",
       "    <tr style=\"text-align: right;\">\n",
       "      <th></th>\n",
       "      <th>Unnamed: 0</th>\n",
       "      <th>id</th>\n",
       "      <th>created_at</th>\n",
       "      <th>original_text</th>\n",
       "      <th>clean_text</th>\n",
       "      <th>sentiment</th>\n",
       "      <th>lang</th>\n",
       "      <th>screen_name</th>\n",
       "      <th>location</th>\n",
       "      <th>date</th>\n",
       "    </tr>\n",
       "  </thead>\n",
       "  <tbody>\n",
       "    <tr>\n",
       "      <td>0</td>\n",
       "      <td>0</td>\n",
       "      <td>1264707752217186307</td>\n",
       "      <td>Sun May 24 23:59:59 +0000 2020</td>\n",
       "      <td>RT @morethanmySLE: Dr. Birx leaves the America...</td>\n",
       "      <td>RT morethanmySLE Dr. Birx leaves American peop...</td>\n",
       "      <td>Sentiment(polarity=0.0, subjectivity=0.0)</td>\n",
       "      <td>en</td>\n",
       "      <td>Backstorymom1</td>\n",
       "      <td>NaN</td>\n",
       "      <td>2020-05-24</td>\n",
       "    </tr>\n",
       "    <tr>\n",
       "      <td>1</td>\n",
       "      <td>1</td>\n",
       "      <td>1264707752032636929</td>\n",
       "      <td>Sun May 24 23:59:59 +0000 2020</td>\n",
       "      <td>RT @KaitSnod: There is no Corona Virus in Amer...</td>\n",
       "      <td>RT KaitSnod There Corona Virus America https /...</td>\n",
       "      <td>Sentiment(polarity=0.0, subjectivity=0.0)</td>\n",
       "      <td>en</td>\n",
       "      <td>SWafflez_</td>\n",
       "      <td>At the link down below 👀</td>\n",
       "      <td>2020-05-24</td>\n",
       "    </tr>\n",
       "  </tbody>\n",
       "</table>\n",
       "</div>"
      ],
      "text/plain": [
       "   Unnamed: 0                   id                      created_at  \\\n",
       "0           0  1264707752217186307  Sun May 24 23:59:59 +0000 2020   \n",
       "1           1  1264707752032636929  Sun May 24 23:59:59 +0000 2020   \n",
       "\n",
       "                                       original_text  \\\n",
       "0  RT @morethanmySLE: Dr. Birx leaves the America...   \n",
       "1  RT @KaitSnod: There is no Corona Virus in Amer...   \n",
       "\n",
       "                                          clean_text  \\\n",
       "0  RT morethanmySLE Dr. Birx leaves American peop...   \n",
       "1  RT KaitSnod There Corona Virus America https /...   \n",
       "\n",
       "                                   sentiment lang    screen_name  \\\n",
       "0  Sentiment(polarity=0.0, subjectivity=0.0)   en  Backstorymom1   \n",
       "1  Sentiment(polarity=0.0, subjectivity=0.0)   en      SWafflez_   \n",
       "\n",
       "                   location        date  \n",
       "0                       NaN  2020-05-24  \n",
       "1  At the link down below 👀  2020-05-24  "
      ]
     },
     "execution_count": 19,
     "metadata": {},
     "output_type": "execute_result"
    }
   ],
   "source": [
    "df = pd.read_csv('data/twitter_data/covid_data_full.csv', index_col=False, low_memory=False)\n",
    "df.head(2)"
   ]
  },
  {
   "cell_type": "code",
   "execution_count": null,
   "metadata": {},
   "outputs": [],
   "source": [
    "\n",
    "\n",
    "\n",
    "\n",
    "\n",
    "\n",
    "\n",
    "\n",
    "\n",
    "\n",
    "\n",
    "\n",
    "\n"
   ]
  },
  {
   "cell_type": "code",
   "execution_count": 46,
   "metadata": {},
   "outputs": [],
   "source": [
    "def clean_twitter(text):\n",
    "    text = \"\".join([char.lower() for char in text if char not in string.punctuation])\n",
    "    tokens = re.split('\\W+', text)\n",
    "    # text = [ps.stem(wl.lemmatize(word)) for word in tokens if word not in stopwords]\n",
    "    text = [word for word in tokens if word not in stopwords]\n",
    "    for word in text.copy():\n",
    "        text.append(wl.lemmatize(word))\n",
    "        text.append(ps.stem(word))\n",
    "        \n",
    "    return \" \".join(list(set(text)))\n",
    "\n",
    "# clean_twitter(\"D@on't do that ! runn@er running!!!\")"
   ]
  },
  {
   "cell_type": "code",
   "execution_count": 47,
   "metadata": {},
   "outputs": [
    {
     "data": {
      "text/html": [
       "<div>\n",
       "<style scoped>\n",
       "    .dataframe tbody tr th:only-of-type {\n",
       "        vertical-align: middle;\n",
       "    }\n",
       "\n",
       "    .dataframe tbody tr th {\n",
       "        vertical-align: top;\n",
       "    }\n",
       "\n",
       "    .dataframe thead th {\n",
       "        text-align: right;\n",
       "    }\n",
       "</style>\n",
       "<table border=\"1\" class=\"dataframe\">\n",
       "  <thead>\n",
       "    <tr style=\"text-align: right;\">\n",
       "      <th></th>\n",
       "      <th>Unnamed: 0</th>\n",
       "      <th>id</th>\n",
       "      <th>created_at</th>\n",
       "      <th>original_text</th>\n",
       "      <th>clean_text</th>\n",
       "      <th>sentiment</th>\n",
       "      <th>lang</th>\n",
       "      <th>screen_name</th>\n",
       "      <th>location</th>\n",
       "      <th>date</th>\n",
       "      <th>clean_text_old</th>\n",
       "    </tr>\n",
       "  </thead>\n",
       "  <tbody>\n",
       "    <tr>\n",
       "      <td>0</td>\n",
       "      <td>0</td>\n",
       "      <td>1264707752217186307</td>\n",
       "      <td>Sun May 24 23:59:59 +0000 2020</td>\n",
       "      <td>RT @morethanmySLE: Dr. Birx leaves the America...</td>\n",
       "      <td>leaf covid19 leav question answers dr people a...</td>\n",
       "      <td>Sentiment(polarity=0.0, subjectivity=0.0)</td>\n",
       "      <td>en</td>\n",
       "      <td>Backstorymom1</td>\n",
       "      <td>NaN</td>\n",
       "      <td>2020-05-24</td>\n",
       "      <td>RT morethanmySLE Dr. Birx leaves American peop...</td>\n",
       "    </tr>\n",
       "    <tr>\n",
       "      <td>1</td>\n",
       "      <td>1</td>\n",
       "      <td>1264707752032636929</td>\n",
       "      <td>Sun May 24 23:59:59 +0000 2020</td>\n",
       "      <td>RT @KaitSnod: There is no Corona Virus in Amer...</td>\n",
       "      <td>america corona kaitsnod httpstcoz9ndlkz3ml vir...</td>\n",
       "      <td>Sentiment(polarity=0.0, subjectivity=0.0)</td>\n",
       "      <td>en</td>\n",
       "      <td>SWafflez_</td>\n",
       "      <td>At the link down below 👀</td>\n",
       "      <td>2020-05-24</td>\n",
       "      <td>RT KaitSnod There Corona Virus America https /...</td>\n",
       "    </tr>\n",
       "  </tbody>\n",
       "</table>\n",
       "</div>"
      ],
      "text/plain": [
       "   Unnamed: 0                   id                      created_at  \\\n",
       "0           0  1264707752217186307  Sun May 24 23:59:59 +0000 2020   \n",
       "1           1  1264707752032636929  Sun May 24 23:59:59 +0000 2020   \n",
       "\n",
       "                                       original_text  \\\n",
       "0  RT @morethanmySLE: Dr. Birx leaves the America...   \n",
       "1  RT @KaitSnod: There is no Corona Virus in Amer...   \n",
       "\n",
       "                                          clean_text  \\\n",
       "0  leaf covid19 leav question answers dr people a...   \n",
       "1  america corona kaitsnod httpstcoz9ndlkz3ml vir...   \n",
       "\n",
       "                                   sentiment lang    screen_name  \\\n",
       "0  Sentiment(polarity=0.0, subjectivity=0.0)   en  Backstorymom1   \n",
       "1  Sentiment(polarity=0.0, subjectivity=0.0)   en      SWafflez_   \n",
       "\n",
       "                   location        date  \\\n",
       "0                       NaN  2020-05-24   \n",
       "1  At the link down below 👀  2020-05-24   \n",
       "\n",
       "                                      clean_text_old  \n",
       "0  RT morethanmySLE Dr. Birx leaves American peop...  \n",
       "1  RT KaitSnod There Corona Virus America https /...  "
      ]
     },
     "execution_count": 47,
     "metadata": {},
     "output_type": "execute_result"
    }
   ],
   "source": [
    "df['clean_text_old'] = df['clean_text']\n",
    "df['clean_text'] = df['original_text'].apply(lambda x: clean_twitter(x))\n",
    "df.head(2)"
   ]
  },
  {
   "cell_type": "code",
   "execution_count": null,
   "metadata": {},
   "outputs": [],
   "source": []
  },
  {
   "cell_type": "code",
   "execution_count": null,
   "metadata": {},
   "outputs": [],
   "source": []
  },
  {
   "cell_type": "code",
   "execution_count": null,
   "metadata": {},
   "outputs": [],
   "source": []
  },
  {
   "cell_type": "code",
   "execution_count": null,
   "metadata": {},
   "outputs": [],
   "source": []
  },
  {
   "cell_type": "code",
   "execution_count": null,
   "metadata": {},
   "outputs": [],
   "source": []
  },
  {
   "cell_type": "code",
   "execution_count": null,
   "metadata": {},
   "outputs": [],
   "source": []
  },
  {
   "cell_type": "code",
   "execution_count": null,
   "metadata": {},
   "outputs": [],
   "source": []
  },
  {
   "cell_type": "code",
   "execution_count": 12,
   "metadata": {},
   "outputs": [
    {
     "data": {
      "text/plain": [
       "['allah', 'amen', 'islam']"
      ]
     },
     "execution_count": 12,
     "metadata": {},
     "output_type": "execute_result"
    }
   ],
   "source": [
    "def find_religious_words(text):\n",
    "#     return list(set(text.split()) & set(religious_words))\n",
    "    return list(filter(lambda x: x in text, religious_words))\n",
    "                \n",
    "# find_religious_words('allah help me pls, amen! islam&peace')"
   ]
  },
  {
   "cell_type": "code",
   "execution_count": 51,
   "metadata": {},
   "outputs": [
    {
     "data": {
      "text/html": [
       "<div>\n",
       "<style scoped>\n",
       "    .dataframe tbody tr th:only-of-type {\n",
       "        vertical-align: middle;\n",
       "    }\n",
       "\n",
       "    .dataframe tbody tr th {\n",
       "        vertical-align: top;\n",
       "    }\n",
       "\n",
       "    .dataframe thead th {\n",
       "        text-align: right;\n",
       "    }\n",
       "</style>\n",
       "<table border=\"1\" class=\"dataframe\">\n",
       "  <thead>\n",
       "    <tr style=\"text-align: right;\">\n",
       "      <th></th>\n",
       "      <th>Unnamed: 0</th>\n",
       "      <th>id</th>\n",
       "      <th>created_at</th>\n",
       "      <th>original_text</th>\n",
       "      <th>clean_text</th>\n",
       "      <th>sentiment</th>\n",
       "      <th>lang</th>\n",
       "      <th>screen_name</th>\n",
       "      <th>location</th>\n",
       "      <th>date</th>\n",
       "      <th>clean_text_old</th>\n",
       "      <th>religious_text</th>\n",
       "    </tr>\n",
       "  </thead>\n",
       "  <tbody>\n",
       "    <tr>\n",
       "      <td>0</td>\n",
       "      <td>0</td>\n",
       "      <td>1264707752217186307</td>\n",
       "      <td>Sun May 24 23:59:59 +0000 2020</td>\n",
       "      <td>RT @morethanmySLE: Dr. Birx leaves the America...</td>\n",
       "      <td>leaf covid19 leav question answers dr people a...</td>\n",
       "      <td>Sentiment(polarity=0.0, subjectivity=0.0)</td>\n",
       "      <td>en</td>\n",
       "      <td>Backstorymom1</td>\n",
       "      <td>NaN</td>\n",
       "      <td>2020-05-24</td>\n",
       "      <td>RT morethanmySLE Dr. Birx leaves American peop...</td>\n",
       "      <td>[]</td>\n",
       "    </tr>\n",
       "    <tr>\n",
       "      <td>1</td>\n",
       "      <td>1</td>\n",
       "      <td>1264707752032636929</td>\n",
       "      <td>Sun May 24 23:59:59 +0000 2020</td>\n",
       "      <td>RT @KaitSnod: There is no Corona Virus in Amer...</td>\n",
       "      <td>america corona kaitsnod httpstcoz9ndlkz3ml vir...</td>\n",
       "      <td>Sentiment(polarity=0.0, subjectivity=0.0)</td>\n",
       "      <td>en</td>\n",
       "      <td>SWafflez_</td>\n",
       "      <td>At the link down below 👀</td>\n",
       "      <td>2020-05-24</td>\n",
       "      <td>RT KaitSnod There Corona Virus America https /...</td>\n",
       "      <td>[]</td>\n",
       "    </tr>\n",
       "  </tbody>\n",
       "</table>\n",
       "</div>"
      ],
      "text/plain": [
       "   Unnamed: 0                   id                      created_at  \\\n",
       "0           0  1264707752217186307  Sun May 24 23:59:59 +0000 2020   \n",
       "1           1  1264707752032636929  Sun May 24 23:59:59 +0000 2020   \n",
       "\n",
       "                                       original_text  \\\n",
       "0  RT @morethanmySLE: Dr. Birx leaves the America...   \n",
       "1  RT @KaitSnod: There is no Corona Virus in Amer...   \n",
       "\n",
       "                                          clean_text  \\\n",
       "0  leaf covid19 leav question answers dr people a...   \n",
       "1  america corona kaitsnod httpstcoz9ndlkz3ml vir...   \n",
       "\n",
       "                                   sentiment lang    screen_name  \\\n",
       "0  Sentiment(polarity=0.0, subjectivity=0.0)   en  Backstorymom1   \n",
       "1  Sentiment(polarity=0.0, subjectivity=0.0)   en      SWafflez_   \n",
       "\n",
       "                   location        date  \\\n",
       "0                       NaN  2020-05-24   \n",
       "1  At the link down below 👀  2020-05-24   \n",
       "\n",
       "                                      clean_text_old religious_text  \n",
       "0  RT morethanmySLE Dr. Birx leaves American peop...             []  \n",
       "1  RT KaitSnod There Corona Virus America https /...             []  "
      ]
     },
     "execution_count": 51,
     "metadata": {},
     "output_type": "execute_result"
    }
   ],
   "source": [
    "df['religious_text'] = df['clean_text'].apply(lambda x: find_religious_words(x))\n",
    "df.head(2)"
   ]
  },
  {
   "cell_type": "code",
   "execution_count": 52,
   "metadata": {},
   "outputs": [],
   "source": [
    "df.to_csv('data/religious_twitter_df.csv', index=False)\n",
    "# df.to_csv('data/religious_twitter_df.csv', index=False).sort_values('religious_text')"
   ]
  },
  {
   "cell_type": "code",
   "execution_count": null,
   "metadata": {},
   "outputs": [],
   "source": [
    "\n",
    "\n",
    "\n",
    "\n",
    "\n",
    "\n",
    "\n",
    "\n",
    "\n",
    "\n",
    "\n",
    "\n",
    "\n",
    "\n",
    "\n",
    "\n",
    "\n",
    "\n",
    "\n",
    "\n",
    "\n"
   ]
  },
  {
   "cell_type": "code",
   "execution_count": null,
   "metadata": {},
   "outputs": [],
   "source": []
  },
  {
   "cell_type": "code",
   "execution_count": null,
   "metadata": {},
   "outputs": [],
   "source": []
  },
  {
   "cell_type": "code",
   "execution_count": null,
   "metadata": {},
   "outputs": [],
   "source": []
  },
  {
   "cell_type": "code",
   "execution_count": null,
   "metadata": {},
   "outputs": [],
   "source": []
  },
  {
   "cell_type": "code",
   "execution_count": null,
   "metadata": {},
   "outputs": [],
   "source": []
  },
  {
   "cell_type": "code",
   "execution_count": null,
   "metadata": {},
   "outputs": [],
   "source": []
  },
  {
   "cell_type": "code",
   "execution_count": null,
   "metadata": {},
   "outputs": [],
   "source": []
  },
  {
   "cell_type": "code",
   "execution_count": null,
   "metadata": {},
   "outputs": [],
   "source": []
  },
  {
   "cell_type": "code",
   "execution_count": null,
   "metadata": {},
   "outputs": [],
   "source": []
  },
  {
   "cell_type": "code",
   "execution_count": null,
   "metadata": {},
   "outputs": [],
   "source": []
  },
  {
   "cell_type": "code",
   "execution_count": null,
   "metadata": {},
   "outputs": [],
   "source": []
  },
  {
   "cell_type": "markdown",
   "metadata": {},
   "source": [
    "######################### ------------------------------- #########################"
   ]
  },
  {
   "cell_type": "code",
   "execution_count": null,
   "metadata": {},
   "outputs": [],
   "source": [
    "def clean_twitter(text):\n",
    "    text = \"\".join([word.lower() for word in text if word not in string.punctuation])\n",
    "    tokens = re.split('\\W+', text)\n",
    "    text = [ps.stem(wl.lemmatize(word)) for word in tokens if word not in stopwords]\n",
    "    return text"
   ]
  },
  {
   "cell_type": "code",
   "execution_count": null,
   "metadata": {},
   "outputs": [],
   "source": [
    "def count_punct(text):\n",
    "    count = sum([1 for char in text if char in string.punctuation])\n",
    "    return round(count/(len(text) - text.count(\" \")), 3)*100\n",
    "\n",
    "df['text_len'] = df['original_text'].apply(lambda x: len(x) - x.count(\" \"))\n",
    "df['punct%'] = df['original_text'].apply(lambda x: count_punct(x))"
   ]
  },
  {
   "cell_type": "code",
   "execution_count": null,
   "metadata": {},
   "outputs": [],
   "source": [
    "df.head(2)"
   ]
  },
  {
   "cell_type": "code",
   "execution_count": null,
   "metadata": {},
   "outputs": [],
   "source": [
    "# tfidf_vect = TfidfVectorizer(analyzer=clean_text)\n",
    "# tfidf_vect_fit = tfidf_vect.fit(df['original_text'])\n",
    "# tfidf_data = tfidf_vect_fit.transform(df['original_text'])\n",
    "\n",
    "\n",
    "# vect_df = pd.concat([df[['text_len', 'punct%']].reset_index(drop=True), pd.DataFrame(tfidf_data.toarray())], axis=1)\n",
    "# vect_df.head(2)"
   ]
  },
  {
   "cell_type": "code",
   "execution_count": null,
   "metadata": {},
   "outputs": [],
   "source": []
  },
  {
   "cell_type": "code",
   "execution_count": null,
   "metadata": {},
   "outputs": [],
   "source": []
  }
 ],
 "metadata": {
  "kernelspec": {
   "display_name": "Python 3",
   "language": "python",
   "name": "python3"
  },
  "language_info": {
   "codemirror_mode": {
    "name": "ipython",
    "version": 3
   },
   "file_extension": ".py",
   "mimetype": "text/x-python",
   "name": "python",
   "nbconvert_exporter": "python",
   "pygments_lexer": "ipython3",
   "version": "3.7.4"
  }
 },
 "nbformat": 4,
 "nbformat_minor": 4
}
