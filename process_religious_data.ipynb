{
 "cells": [
  {
   "cell_type": "code",
   "execution_count": 31,
   "metadata": {},
   "outputs": [],
   "source": [
    "import pandas as pd\n",
    "import pandas as pd\n",
    "import matplotlib.pyplot as plt\n",
    "import seaborn as sns\n",
    "\n",
    "%matplotlib inline\n",
    "\n",
    "\n",
    "import nltk\n",
    "import string, re\n",
    "\n",
    "from sklearn.feature_extraction.text import TfidfVectorizer\n",
    "\n",
    "\n",
    "\n",
    "stopwords = nltk.corpus.stopwords.words('english')\n",
    "ps = nltk.PorterStemmer()\n",
    "wl = nltk.stem.WordNetLemmatizer()"
   ]
  },
  {
   "cell_type": "code",
   "execution_count": 33,
   "metadata": {},
   "outputs": [],
   "source": [
    "covid_txt = open(\"data/covid_words.txt\").read()\n",
    "religious_txt= open(\"data/religious_base_words.txt\").read()"
   ]
  },
  {
   "cell_type": "code",
   "execution_count": null,
   "metadata": {},
   "outputs": [],
   "source": [
    "\n",
    "\n",
    "\n",
    "\n",
    "\n",
    "\n",
    "\n",
    "\n",
    "\n",
    "\n",
    "\n",
    "\n",
    "\n"
   ]
  },
  {
   "cell_type": "code",
   "execution_count": 19,
   "metadata": {},
   "outputs": [],
   "source": [
    "def get_word_list(_input):\n",
    "    return _input.split()"
   ]
  },
  {
   "cell_type": "code",
   "execution_count": 34,
   "metadata": {},
   "outputs": [
    {
     "data": {
      "text/plain": [
       "['covid',\n",
       " 'corona',\n",
       " 'pandemic',\n",
       " 'virus',\n",
       " 'WHO',\n",
       " 'worldhealthorganiz',\n",
       " 'lockdown',\n",
       " 'staysafe',\n",
       " 'stayhome',\n",
       " 'stayathome',\n",
       " 'stayinghome',\n",
       " 'stayingathome',\n",
       " 'stayinside',\n",
       " 'stayinginside',\n",
       " 'quarantine',\n",
       " 'selfquarantine',\n",
       " 'selfdistanc',\n",
       " 'socialdistanc',\n",
       " 'socialisolation',\n",
       " 'washhand',\n",
       " 'washyourhand',\n",
       " 'newnormal',\n",
       " 'stayhealthy',\n",
       " 'remotework',\n",
       " 'remotelywork',\n",
       " 'workingremote',\n",
       " 'workfromhome',\n",
       " 'workingfromhome',\n",
       " 'homebound']"
      ]
     },
     "execution_count": 34,
     "metadata": {},
     "output_type": "execute_result"
    }
   ],
   "source": [
    "covid_words=get_word_list(covid_txt)\n",
    "covid_words"
   ]
  },
  {
   "cell_type": "code",
   "execution_count": 21,
   "metadata": {},
   "outputs": [
    {
     "data": {
      "text/plain": [
       "['bell', 'scheol', 'liturgy', 'potluck', 'furore']"
      ]
     },
     "execution_count": 21,
     "metadata": {},
     "output_type": "execute_result"
    }
   ],
   "source": [
    "religious_words=list(set(get_word_list(religious_txt)))\n",
    "religious_words[:5]"
   ]
  },
  {
   "cell_type": "code",
   "execution_count": 22,
   "metadata": {},
   "outputs": [
    {
     "name": "stdout",
     "output_type": "stream",
     "text": [
      "1922\n"
     ]
    }
   ],
   "source": [
    "print(len(religious_words))"
   ]
  },
  {
   "cell_type": "code",
   "execution_count": null,
   "metadata": {},
   "outputs": [],
   "source": []
  },
  {
   "cell_type": "code",
   "execution_count": null,
   "metadata": {},
   "outputs": [],
   "source": []
  },
  {
   "cell_type": "code",
   "execution_count": null,
   "metadata": {},
   "outputs": [],
   "source": []
  },
  {
   "cell_type": "code",
   "execution_count": 23,
   "metadata": {},
   "outputs": [],
   "source": [
    "def clean_words(word_list):\n",
    "    word_list = list(map(lambda word: \"\".join([char for char in word.lower() if char not in string.punctuation]), word_list))\n",
    "    word_list = [word for word in word_list if word not in stopwords]\n",
    "    ## word_list = [ps.stem(wl.lemmatize(word)) for word in word_list if word not in stopwords]\n",
    "    for word in word_list.copy():\n",
    "        word_list.append(wl.lemmatize(word))\n",
    "        word_list.append(ps.stem(word))\n",
    "    \n",
    "    return list(set(word_list))\n",
    "\n",
    "# clean_words(['Quran', 'Pra[y'])\n",
    "# print(\" \".join(clean_words(['Quran', 'Pra[y'])))"
   ]
  },
  {
   "cell_type": "code",
   "execution_count": 24,
   "metadata": {},
   "outputs": [
    {
     "data": {
      "text/plain": [
       "['bell', 'scheol', 'liturgy', 'potluck', 'furore']"
      ]
     },
     "execution_count": 24,
     "metadata": {},
     "output_type": "execute_result"
    }
   ],
   "source": [
    "clean_religious_words = clean_words(religious_txt.split())\n",
    "clean_religious_words[:5]"
   ]
  },
  {
   "cell_type": "code",
   "execution_count": 25,
   "metadata": {},
   "outputs": [
    {
     "name": "stdout",
     "output_type": "stream",
     "text": [
      "2512\n"
     ]
    }
   ],
   "source": [
    "print(len(clean_religious_words))"
   ]
  },
  {
   "cell_type": "code",
   "execution_count": 26,
   "metadata": {},
   "outputs": [],
   "source": [
    "religious_words_df = pd.DataFrame({'religious_words': clean_religious_words}).sort_values('religious_words')\n",
    "religious_words_df.to_csv('data/religious_words_df.csv', index=False)"
   ]
  },
  {
   "cell_type": "code",
   "execution_count": 27,
   "metadata": {},
   "outputs": [],
   "source": [
    "# pd.DataFrame(clean_religious_words).to_csv('data/religious_words_df.csv', index=False, header=False).sort_values('importance', ascending = False)"
   ]
  },
  {
   "cell_type": "code",
   "execution_count": 28,
   "metadata": {},
   "outputs": [],
   "source": [
    "f = open('data/religious_clean_words.txt', 'w')\n",
    "f.write(' '.join(sorted(clean_religious_words)))\n",
    "f.close()"
   ]
  },
  {
   "cell_type": "code",
   "execution_count": null,
   "metadata": {},
   "outputs": [],
   "source": []
  },
  {
   "cell_type": "code",
   "execution_count": null,
   "metadata": {},
   "outputs": [],
   "source": []
  },
  {
   "cell_type": "code",
   "execution_count": null,
   "metadata": {},
   "outputs": [],
   "source": []
  },
  {
   "cell_type": "code",
   "execution_count": 35,
   "metadata": {},
   "outputs": [],
   "source": [
    "clean_covid_words = clean_words(covid_txt.split())\n",
    "clean_covid_words[:5]\n",
    "\n",
    "covid_words_df = pd.DataFrame({'covid_words': clean_covid_words}).sort_values('covid_words')\n",
    "covid_words_df.to_csv('data/covid_words_df.csv', index=False)"
   ]
  },
  {
   "cell_type": "code",
   "execution_count": null,
   "metadata": {},
   "outputs": [],
   "source": []
  },
  {
   "cell_type": "code",
   "execution_count": null,
   "metadata": {},
   "outputs": [],
   "source": []
  },
  {
   "cell_type": "code",
   "execution_count": null,
   "metadata": {},
   "outputs": [],
   "source": []
  }
 ],
 "metadata": {
  "kernelspec": {
   "display_name": "Python 3",
   "language": "python",
   "name": "python3"
  },
  "language_info": {
   "codemirror_mode": {
    "name": "ipython",
    "version": 3
   },
   "file_extension": ".py",
   "mimetype": "text/x-python",
   "name": "python",
   "nbconvert_exporter": "python",
   "pygments_lexer": "ipython3",
   "version": "3.7.4"
  }
 },
 "nbformat": 4,
 "nbformat_minor": 4
}
