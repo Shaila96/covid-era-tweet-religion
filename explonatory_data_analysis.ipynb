{
 "cells": [
  {
   "cell_type": "code",
   "execution_count": 374,
   "metadata": {},
   "outputs": [],
   "source": [
    "ignore_retweets = True\n",
    "check_covid_words = True\n",
    "\n"
   ]
  },
  {
   "cell_type": "code",
   "execution_count": 375,
   "metadata": {},
   "outputs": [],
   "source": [
    "import pandas as pd\n",
    "import numpy as np\n",
    "import matplotlib.pyplot as plt\n",
    "import seaborn as sns\n",
    "\n",
    "%matplotlib inline\n",
    "\n",
    "\n",
    "import datetime\n",
    "import glob\n",
    "\n",
    "\n",
    "import nltk\n",
    "import string, re\n",
    "\n",
    "from sklearn.feature_extraction.text import TfidfVectorizer\n",
    "\n",
    "\n",
    "from wordcloud import WordCloud, STOPWORDS\n",
    "\n",
    "stopwords = nltk.corpus.stopwords.words('english')\n",
    "ps = nltk.PorterStemmer()\n",
    "wl = nltk.stem.WordNetLemmatizer()"
   ]
  },
  {
   "cell_type": "code",
   "execution_count": 376,
   "metadata": {},
   "outputs": [
    {
     "data": {
      "text/html": [
       "<div>\n",
       "<style scoped>\n",
       "    .dataframe tbody tr th:only-of-type {\n",
       "        vertical-align: middle;\n",
       "    }\n",
       "\n",
       "    .dataframe tbody tr th {\n",
       "        vertical-align: top;\n",
       "    }\n",
       "\n",
       "    .dataframe thead th {\n",
       "        text-align: right;\n",
       "    }\n",
       "</style>\n",
       "<table border=\"1\" class=\"dataframe\">\n",
       "  <thead>\n",
       "    <tr style=\"text-align: right;\">\n",
       "      <th></th>\n",
       "      <th>created_at</th>\n",
       "      <th>original_text</th>\n",
       "      <th>clean_text</th>\n",
       "      <th>sentiment</th>\n",
       "      <th>location</th>\n",
       "      <th>final_text</th>\n",
       "      <th>religious_text</th>\n",
       "      <th>is_religious_tweet</th>\n",
       "      <th>polarity</th>\n",
       "      <th>subjectivity</th>\n",
       "      <th>date</th>\n",
       "      <th>final_text_merge</th>\n",
       "      <th>covid_text</th>\n",
       "      <th>is_covid_tweet</th>\n",
       "    </tr>\n",
       "  </thead>\n",
       "  <tbody>\n",
       "    <tr>\n",
       "      <td>0</td>\n",
       "      <td>Sun May 24 23:59:59 +0000 2020</td>\n",
       "      <td>RT @morethanmySLE: Dr. Birx leaves the America...</td>\n",
       "      <td>RT morethanmySLE Dr. Birx leaves American peop...</td>\n",
       "      <td>Sentiment(polarity=0.0, subjectivity=0.0)</td>\n",
       "      <td>NaN</td>\n",
       "      <td>rt leaves dr people covid19 answers birx moret...</td>\n",
       "      <td>NaN</td>\n",
       "      <td>no</td>\n",
       "      <td>0.000000</td>\n",
       "      <td>0.000000</td>\n",
       "      <td>2020-05-24</td>\n",
       "      <td>rtleavesdrpeoplecovid19answersbirxmorethanmysl...</td>\n",
       "      <td>covid</td>\n",
       "      <td>yes</td>\n",
       "    </tr>\n",
       "    <tr>\n",
       "      <td>1</td>\n",
       "      <td>Sun May 10 05:19:14 +0000 2020</td>\n",
       "      <td>RT @ABsteward: NEW @JAMA_current\\nInterpreting...</td>\n",
       "      <td>RT ABsteward NEW JAMA_current Interpreting Dia...</td>\n",
       "      <td>Sentiment(polarity=0.13636363636363635, subjec...</td>\n",
       "      <td>ÜT: -2.149611,106.131112</td>\n",
       "      <td>rt tcoys7panhsp1 new diagnostic tests interpre...</td>\n",
       "      <td>NaN</td>\n",
       "      <td>no</td>\n",
       "      <td>0.136364</td>\n",
       "      <td>0.454545</td>\n",
       "      <td>2020-05-10</td>\n",
       "      <td>rttcoys7panhsp1newdiagnostictestsinterpretings...</td>\n",
       "      <td>covid</td>\n",
       "      <td>yes</td>\n",
       "    </tr>\n",
       "  </tbody>\n",
       "</table>\n",
       "</div>"
      ],
      "text/plain": [
       "                       created_at  \\\n",
       "0  Sun May 24 23:59:59 +0000 2020   \n",
       "1  Sun May 10 05:19:14 +0000 2020   \n",
       "\n",
       "                                       original_text  \\\n",
       "0  RT @morethanmySLE: Dr. Birx leaves the America...   \n",
       "1  RT @ABsteward: NEW @JAMA_current\\nInterpreting...   \n",
       "\n",
       "                                          clean_text  \\\n",
       "0  RT morethanmySLE Dr. Birx leaves American peop...   \n",
       "1  RT ABsteward NEW JAMA_current Interpreting Dia...   \n",
       "\n",
       "                                           sentiment  \\\n",
       "0          Sentiment(polarity=0.0, subjectivity=0.0)   \n",
       "1  Sentiment(polarity=0.13636363636363635, subjec...   \n",
       "\n",
       "                   location  \\\n",
       "0                       NaN   \n",
       "1  ÜT: -2.149611,106.131112   \n",
       "\n",
       "                                          final_text religious_text  \\\n",
       "0  rt leaves dr people covid19 answers birx moret...            NaN   \n",
       "1  rt tcoys7panhsp1 new diagnostic tests interpre...            NaN   \n",
       "\n",
       "  is_religious_tweet  polarity  subjectivity        date  \\\n",
       "0                 no  0.000000      0.000000  2020-05-24   \n",
       "1                 no  0.136364      0.454545  2020-05-10   \n",
       "\n",
       "                                    final_text_merge covid_text is_covid_tweet  \n",
       "0  rtleavesdrpeoplecovid19answersbirxmorethanmysl...      covid            yes  \n",
       "1  rttcoys7panhsp1newdiagnostictestsinterpretings...      covid            yes  "
      ]
     },
     "execution_count": 376,
     "metadata": {},
     "output_type": "execute_result"
    }
   ],
   "source": [
    "df = pd.read_csv('data/religious_twitter_df.csv', index_col=False, low_memory=False)\n",
    "df.head(2)"
   ]
  },
  {
   "cell_type": "code",
   "execution_count": 377,
   "metadata": {},
   "outputs": [
    {
     "data": {
      "text/plain": [
       "(1292097, 14)"
      ]
     },
     "execution_count": 377,
     "metadata": {},
     "output_type": "execute_result"
    }
   ],
   "source": [
    "df.shape"
   ]
  },
  {
   "cell_type": "code",
   "execution_count": 378,
   "metadata": {},
   "outputs": [],
   "source": [
    "if ignore_retweets:\n",
    "    df = df[~df['original_text'].str.startswith('RT @')]"
   ]
  },
  {
   "cell_type": "code",
   "execution_count": 379,
   "metadata": {},
   "outputs": [
    {
     "data": {
      "text/plain": [
       "(274712, 14)"
      ]
     },
     "execution_count": 379,
     "metadata": {},
     "output_type": "execute_result"
    }
   ],
   "source": [
    "df.shape"
   ]
  },
  {
   "cell_type": "code",
   "execution_count": 380,
   "metadata": {},
   "outputs": [],
   "source": [
    "# def parse_sentiment(sentiment, pattern):\n",
    "#     result = re.search(pattern, sentiment)\n",
    "#     return float(result.group(1))\n",
    "\n",
    "# df['polarity'] = df['sentiment'].apply(lambda x: parse_sentiment(x, 'Sentiment\\(polarity=(.*), subjectivity=.*'))\n",
    "# df['subjectivity'] = df['sentiment'].apply(lambda x: parse_sentiment(x, '.*subjectivity=(.*)\\)'))\n",
    "# df.head(2)\n",
    "\n",
    "\n",
    "# df['date'] = df['created_at'].apply(lambda x: pd.to_datetime(x[4:10]+' 2020', format=\"%b %d %Y\"))\n",
    "# df.head(2)"
   ]
  },
  {
   "cell_type": "code",
   "execution_count": null,
   "metadata": {},
   "outputs": [],
   "source": []
  },
  {
   "cell_type": "code",
   "execution_count": null,
   "metadata": {},
   "outputs": [],
   "source": []
  },
  {
   "cell_type": "code",
   "execution_count": null,
   "metadata": {},
   "outputs": [],
   "source": []
  },
  {
   "cell_type": "code",
   "execution_count": null,
   "metadata": {},
   "outputs": [],
   "source": []
  },
  {
   "cell_type": "code",
   "execution_count": null,
   "metadata": {},
   "outputs": [],
   "source": []
  },
  {
   "cell_type": "code",
   "execution_count": null,
   "metadata": {},
   "outputs": [],
   "source": []
  },
  {
   "cell_type": "code",
   "execution_count": null,
   "metadata": {},
   "outputs": [],
   "source": []
  },
  {
   "cell_type": "code",
   "execution_count": 381,
   "metadata": {},
   "outputs": [
    {
     "name": "stdout",
     "output_type": "stream",
     "text": [
      "(274712, 14) (43360, 14) (231352, 14)\n"
     ]
    }
   ],
   "source": [
    "# non_religion_df=df.loc[df['religious_text'].isnull()]\n",
    "# religion_df=df.loc[~df['religious_text'].isnull()]\n",
    "\n",
    "\n",
    "\n",
    "religion_df=df.loc[df.is_religious_tweet=='yes']\n",
    "non_religion_df=df.loc[df.is_religious_tweet=='no']\n",
    "\n",
    "print(df.shape, religion_df.shape, non_religion_df.shape)"
   ]
  },
  {
   "cell_type": "code",
   "execution_count": 382,
   "metadata": {},
   "outputs": [
    {
     "name": "stdout",
     "output_type": "stream",
     "text": [
      "(274712, 14) (25931, 14) (248781, 14)\n"
     ]
    }
   ],
   "source": [
    "if check_covid_words:\n",
    "    religion_df=df[(df.is_covid_tweet=='yes') & (df.is_religious_tweet=='yes')]\n",
    "    non_religion_df=df[~((df.is_covid_tweet=='yes') & (df.is_religious_tweet=='yes'))]\n",
    "\n",
    "    print(df.shape, religion_df.shape, non_religion_df.shape)\n",
    "    \n",
    "    df.loc[(df.is_covid_tweet=='yes') & (df.is_religious_tweet=='yes'), 'is_religious_covid_tweet'] = 'yes'\n",
    "    df.loc[~((df.is_covid_tweet=='yes') & (df.is_religious_tweet=='yes')), 'is_religious_covid_tweet'] = 'no'"
   ]
  },
  {
   "cell_type": "code",
   "execution_count": 383,
   "metadata": {},
   "outputs": [
    {
     "name": "stdout",
     "output_type": "stream",
     "text": [
      "(274712, 15) (25931, 14) (248781, 14)\n"
     ]
    }
   ],
   "source": [
    "print(df.shape, religion_df.shape, non_religion_df.shape)"
   ]
  },
  {
   "cell_type": "code",
   "execution_count": null,
   "metadata": {},
   "outputs": [],
   "source": []
  },
  {
   "cell_type": "code",
   "execution_count": 384,
   "metadata": {},
   "outputs": [],
   "source": [
    "def draw_dist_plot(df, col):\n",
    "    sns.distplot(df[col])"
   ]
  },
  {
   "cell_type": "code",
   "execution_count": 385,
   "metadata": {},
   "outputs": [
    {
     "data": {
      "image/png": "[encoded data removed]",
      "text/plain": [
       "<Figure size 432x288 with 1 Axes>"
      ]
     },
     "metadata": {
      "needs_background": "light"
     },
     "output_type": "display_data"
    }
   ],
   "source": [
    "draw_dist_plot(non_religion_df, 'polarity')\n",
    "draw_dist_plot(religion_df, 'polarity')\n"
   ]
  },
  {
   "cell_type": "code",
   "execution_count": null,
   "metadata": {},
   "outputs": [],
   "source": []
  },
  {
   "cell_type": "code",
   "execution_count": null,
   "metadata": {},
   "outputs": [],
   "source": []
  },
  {
   "cell_type": "code",
   "execution_count": 386,
   "metadata": {},
   "outputs": [
    {
     "data": {
      "image/png": "[encoded data removed]",
      "text/plain": [
       "<Figure size 432x288 with 1 Axes>"
      ]
     },
     "metadata": {
      "needs_background": "light"
     },
     "output_type": "display_data"
    }
   ],
   "source": [
    "draw_dist_plot(non_religion_df, 'subjectivity')\n",
    "draw_dist_plot(religion_df, 'subjectivity')"
   ]
  },
  {
   "cell_type": "code",
   "execution_count": null,
   "metadata": {},
   "outputs": [],
   "source": []
  },
  {
   "cell_type": "code",
   "execution_count": null,
   "metadata": {},
   "outputs": [],
   "source": []
  },
  {
   "cell_type": "code",
   "execution_count": null,
   "metadata": {},
   "outputs": [],
   "source": []
  },
  {
   "cell_type": "code",
   "execution_count": 387,
   "metadata": {},
   "outputs": [],
   "source": [
    "# pos_polarity = sum(list(df[df['polarity']>0]['polarity']))\n",
    "# neg_polarity = sum(list(df[df['polarity']<0]['polarity']))\n",
    "\n",
    "# print(pos_polarity, neg_polarity)\n"
   ]
  },
  {
   "cell_type": "code",
   "execution_count": 388,
   "metadata": {},
   "outputs": [
    {
     "name": "stdout",
     "output_type": "stream",
     "text": [
      "38.5109795362186 17.094151080669345 44.39486938311205\n"
     ]
    },
    {
     "data": {
      "image/png": "[encoded data removed]",
      "text/plain": [
       "<Figure size 432x288 with 1 Axes>"
      ]
     },
     "metadata": {
      "needs_background": "light"
     },
     "output_type": "display_data"
    },
    {
     "name": "stdout",
     "output_type": "stream",
     "text": [
      "35.22810535652308 17.61598087231499 47.15591377116193\n"
     ]
    },
    {
     "data": {
      "image/png": "[encoded data removed]",
      "text/plain": [
       "<Figure size 432x288 with 1 Axes>"
      ]
     },
     "metadata": {
      "needs_background": "light"
     },
     "output_type": "display_data"
    }
   ],
   "source": [
    "def get_polarity_count(df, col):\n",
    "    pos_sentiment = len(df[df['polarity']>0])\n",
    "    neg_sentiment = len(df[df['polarity']<0])\n",
    "    neutral_sentiment = len(df[df['polarity']==0])\n",
    "\n",
    "    total = pos_sentiment + neg_sentiment + neutral_sentiment\n",
    "    \n",
    "    print(100*pos_sentiment/total, 100*neg_sentiment/total, 100*neutral_sentiment/total)\n",
    "#     print(pos_sentiment, neg_sentiment, neutral_sentiment)\n",
    "    \n",
    "    objects = ('pos_sentiment', 'neg_sentiment', 'neutral_sentiment')\n",
    "    y_pos = np.arange(len(objects))\n",
    "#     performance = [pos_sentiment, neg_sentiment, neutral_sentiment]\n",
    "    performance = [100*pos_sentiment/total, 100*neg_sentiment/total, 100*neutral_sentiment/total]\n",
    "\n",
    "    plt.bar(y_pos, performance, align='center', alpha=0.5)\n",
    "    plt.xticks(y_pos, objects)\n",
    "    plt.ylabel('Values')\n",
    "    plt.title('Sentiment Analysis')\n",
    "\n",
    "    plt.show()\n",
    "\n",
    "    \n",
    "get_polarity_count(non_religion_df, 'polarity')\n",
    "get_polarity_count(religion_df, 'polarity') \n"
   ]
  },
  {
   "cell_type": "code",
   "execution_count": null,
   "metadata": {},
   "outputs": [],
   "source": []
  },
  {
   "cell_type": "code",
   "execution_count": null,
   "metadata": {},
   "outputs": [],
   "source": []
  },
  {
   "cell_type": "code",
   "execution_count": null,
   "metadata": {},
   "outputs": [],
   "source": []
  },
  {
   "cell_type": "code",
   "execution_count": null,
   "metadata": {},
   "outputs": [],
   "source": []
  },
  {
   "cell_type": "code",
   "execution_count": null,
   "metadata": {},
   "outputs": [],
   "source": []
  },
  {
   "cell_type": "code",
   "execution_count": 389,
   "metadata": {},
   "outputs": [],
   "source": [
    "pos_religion_df = religion_df[religion_df['polarity']>0]\n",
    "neg_religion_df = religion_df[religion_df['polarity']<0]\n",
    "neutral_religion_df = religion_df[religion_df['polarity']==0]"
   ]
  },
  {
   "cell_type": "code",
   "execution_count": 390,
   "metadata": {},
   "outputs": [],
   "source": [
    "def draw_word_cloud(col, plot_name):\n",
    "    comment_words = '' \n",
    "    stopwords = set(STOPWORDS)\n",
    "    \n",
    "    for val in col:\n",
    "        val = str(val)\n",
    "        tokens = val.split() \n",
    " \n",
    "        for i in range(len(tokens)): \n",
    "            tokens[i] = tokens[i].lower() \n",
    "\n",
    "        comment_words += \" \".join(tokens) + \" \"\n",
    "\n",
    "    wordcloud = WordCloud(width = 800, \n",
    "                          height = 800,\n",
    "                          background_color ='white',\n",
    "                          stopwords = stopwords, \n",
    "                          collocations=False,\n",
    "                          min_font_size = 10).generate(comment_words) \n",
    "                       \n",
    "    plt.figure(figsize = (8, 8), facecolor = None) \n",
    "    plt.imshow(wordcloud) \n",
    "    plt.axis(\"off\") \n",
    "    plt.tight_layout(pad = 0) \n",
    "    plt.title(plot_name)\n",
    "    \n",
    "    plt.savefig('plots/' + plot_name + '.pdf')\n",
    "    \n",
    "    plt.show() \n",
    "    \n",
    "    \n"
   ]
  },
  {
   "cell_type": "code",
   "execution_count": 391,
   "metadata": {},
   "outputs": [],
   "source": [
    "# draw_word_cloud(religion_df.final_text, 'religion_word_cloud.pdf')\n",
    "# draw_word_cloud(non_religion_df.final_text, 'non_religion_word_cloud.pdf')"
   ]
  },
  {
   "cell_type": "code",
   "execution_count": 392,
   "metadata": {},
   "outputs": [],
   "source": [
    "# draw_word_cloud(pos_religion_df.final_text, 'pos_religion_word_cloud.pdf')\n",
    "# draw_word_cloud(neg_religion_df.final_text, 'neg_religion_word_cloud.pdf')\n",
    "# draw_word_cloud(neutral_religion_df.final_text, 'neutral_religion_word_cloud.pdf')"
   ]
  },
  {
   "cell_type": "code",
   "execution_count": 393,
   "metadata": {},
   "outputs": [],
   "source": [
    "# draw_word_cloud(religion_df.religious_text, 'religion_word_cloud')\n",
    "# draw_word_cloud(pos_religion_df.religious_text, 'pos_religion_word_cloud')\n",
    "# draw_word_cloud(neg_religion_df.religious_text, 'neg_religion_word_cloud')\n",
    "# draw_word_cloud(neutral_religion_df.religious_text, 'neutral_religion_word_cloud')"
   ]
  },
  {
   "cell_type": "code",
   "execution_count": null,
   "metadata": {},
   "outputs": [],
   "source": []
  },
  {
   "cell_type": "code",
   "execution_count": null,
   "metadata": {},
   "outputs": [],
   "source": []
  },
  {
   "cell_type": "code",
   "execution_count": null,
   "metadata": {},
   "outputs": [],
   "source": []
  },
  {
   "cell_type": "code",
   "execution_count": null,
   "metadata": {},
   "outputs": [],
   "source": []
  },
  {
   "cell_type": "code",
   "execution_count": null,
   "metadata": {},
   "outputs": [],
   "source": []
  },
  {
   "cell_type": "code",
   "execution_count": 394,
   "metadata": {},
   "outputs": [
    {
     "data": {
      "text/plain": [
       "Index(['created_at', 'original_text', 'clean_text', 'sentiment', 'location',\n",
       "       'final_text', 'religious_text', 'is_religious_tweet', 'polarity',\n",
       "       'subjectivity', 'date', 'final_text_merge', 'covid_text',\n",
       "       'is_covid_tweet', 'is_religious_covid_tweet'],\n",
       "      dtype='object')"
      ]
     },
     "execution_count": 394,
     "metadata": {},
     "output_type": "execute_result"
    }
   ],
   "source": [
    "df.columns"
   ]
  },
  {
   "cell_type": "code",
   "execution_count": 395,
   "metadata": {},
   "outputs": [
    {
     "data": {
      "text/plain": [
       "date        is_religious_tweet\n",
       "2020-05-03  no                     2153\n",
       "            yes                     361\n",
       "2020-05-10  no                    93402\n",
       "            yes                   16437\n",
       "2020-05-17  no                    67549\n",
       "            yes                   12837\n",
       "2020-05-24  no                    68248\n",
       "            yes                   13725\n",
       "Name: original_text, dtype: int64"
      ]
     },
     "execution_count": 395,
     "metadata": {},
     "output_type": "execute_result"
    }
   ],
   "source": [
    "religion_tweet_total = df.groupby(['date', 'is_religious_tweet'])['original_text'].count()\n",
    "religion_tweet_total"
   ]
  },
  {
   "cell_type": "code",
   "execution_count": 396,
   "metadata": {},
   "outputs": [
    {
     "data": {
      "text/plain": [
       "date        is_religious_tweet\n",
       "2020-05-03  no                    85.640414\n",
       "            yes                   14.359586\n",
       "2020-05-10  no                    85.035370\n",
       "            yes                   14.964630\n",
       "2020-05-17  no                    84.030801\n",
       "            yes                   15.969199\n",
       "2020-05-24  no                    83.256682\n",
       "            yes                   16.743318\n",
       "Name: original_text, dtype: float64"
      ]
     },
     "execution_count": 396,
     "metadata": {},
     "output_type": "execute_result"
    }
   ],
   "source": [
    "religion_tweet_percentage = religion_tweet_total.groupby(level=0).apply(lambda x: 100 * x / float(x.sum()))\n",
    "religion_tweet_percentage"
   ]
  },
  {
   "cell_type": "code",
   "execution_count": 397,
   "metadata": {},
   "outputs": [],
   "source": [
    "#-------------------------- ignore_retweets = True\n",
    "\n",
    "# date        is_religious_tweet\n",
    "# 2020-05-03  no                    85.640414\n",
    "#             yes                   14.359586\n",
    "# 2020-05-10  no                    85.035370\n",
    "#             yes                   14.964630\n",
    "# 2020-05-17  no                    84.030801\n",
    "#             yes                   15.969199\n",
    "# 2020-05-24  no                    83.256682\n",
    "#             yes                   16.743318\n",
    "# Name: original_text, dtype: float64"
   ]
  },
  {
   "cell_type": "code",
   "execution_count": 398,
   "metadata": {},
   "outputs": [],
   "source": [
    "#-------------------------- ignore_retweets = False\n",
    "\n",
    "# date        is_religious_tweet\n",
    "# 2020-05-03  no                    84.527776\n",
    "#             yes                   15.472224\n",
    "# 2020-05-10  no                    79.713026\n",
    "#             yes                   20.286974\n",
    "# 2020-05-17  no                    83.945939\n",
    "#             yes                   16.054061\n",
    "# 2020-05-24  no                    80.201225\n",
    "#             yes                   19.798775\n",
    "# Name: original_text, dtype: float64"
   ]
  },
  {
   "cell_type": "code",
   "execution_count": null,
   "metadata": {},
   "outputs": [],
   "source": []
  },
  {
   "cell_type": "code",
   "execution_count": null,
   "metadata": {},
   "outputs": [],
   "source": []
  },
  {
   "cell_type": "code",
   "execution_count": 399,
   "metadata": {},
   "outputs": [
    {
     "data": {
      "text/plain": [
       "date        is_religious_covid_tweet\n",
       "2020-05-03  no                          91.447892\n",
       "            yes                          8.552108\n",
       "2020-05-10  no                          91.052358\n",
       "            yes                          8.947642\n",
       "2020-05-17  no                          90.206006\n",
       "            yes                          9.793994\n",
       "2020-05-24  no                          90.222390\n",
       "            yes                          9.777610\n",
       "Name: original_text, dtype: float64"
      ]
     },
     "execution_count": 399,
     "metadata": {},
     "output_type": "execute_result"
    }
   ],
   "source": [
    "religion_covid_tweet_total = df.groupby(['date', 'is_religious_covid_tweet'])['original_text'].count()\n",
    "religion_covid_tweet_percentage = religion_covid_tweet_total.groupby(level=0).apply(lambda x: 100 * x / float(x.sum()))\n",
    "religion_covid_tweet_percentage"
   ]
  },
  {
   "cell_type": "code",
   "execution_count": 400,
   "metadata": {},
   "outputs": [],
   "source": [
    "#-------------------------- ignore_retweets = True\n",
    "\n",
    "# date        is_religious_covid_tweet\n",
    "# 2020-05-03  no                          91.447892\n",
    "#             yes                          8.552108\n",
    "# 2020-05-10  no                          91.052358\n",
    "#             yes                          8.947642\n",
    "# 2020-05-17  no                          90.206006\n",
    "#             yes                          9.793994\n",
    "# 2020-05-24  no                          90.222390\n",
    "#             yes                          9.777610\n",
    "# Name: original_text, dtype: float64"
   ]
  },
  {
   "cell_type": "code",
   "execution_count": 401,
   "metadata": {},
   "outputs": [],
   "source": [
    "#-------------------------- ignore_retweets = False\n",
    "\n",
    "# date        is_religious_covid_tweet\n",
    "# 2020-05-03  no                          92.058573\n",
    "#             yes                          7.941427\n",
    "# 2020-05-10  no                          87.566028\n",
    "#             yes                         12.433972\n",
    "# 2020-05-17  no                          89.061694\n",
    "#             yes                         10.938306\n",
    "# 2020-05-24  no                          87.279257\n",
    "#             yes                         12.720743\n",
    "# Name: original_text, dtype: float64"
   ]
  },
  {
   "cell_type": "code",
   "execution_count": null,
   "metadata": {},
   "outputs": [],
   "source": []
  },
  {
   "cell_type": "code",
   "execution_count": null,
   "metadata": {},
   "outputs": [],
   "source": []
  },
  {
   "cell_type": "code",
   "execution_count": null,
   "metadata": {},
   "outputs": [],
   "source": []
  },
  {
   "cell_type": "code",
   "execution_count": null,
   "metadata": {},
   "outputs": [],
   "source": []
  },
  {
   "cell_type": "code",
   "execution_count": null,
   "metadata": {},
   "outputs": [],
   "source": []
  },
  {
   "cell_type": "code",
   "execution_count": null,
   "metadata": {},
   "outputs": [],
   "source": []
  },
  {
   "cell_type": "code",
   "execution_count": null,
   "metadata": {},
   "outputs": [],
   "source": []
  },
  {
   "cell_type": "code",
   "execution_count": 402,
   "metadata": {},
   "outputs": [
    {
     "data": {
      "text/plain": [
       "date        is_covid_tweet\n",
       "2020-05-03  no                30.270485\n",
       "            yes               69.729515\n",
       "2020-05-10  no                33.260499\n",
       "            yes               66.739501\n",
       "2020-05-17  no                32.564128\n",
       "            yes               67.435872\n",
       "2020-05-24  no                34.233223\n",
       "            yes               65.766777\n",
       "Name: original_text, dtype: float64"
      ]
     },
     "execution_count": 402,
     "metadata": {},
     "output_type": "execute_result"
    }
   ],
   "source": [
    "covid_tweet_total = df.groupby(['date', 'is_covid_tweet'])['original_text'].count()\n",
    "covid_tweet_percentage = covid_tweet_total.groupby(level=0).apply(lambda x: 100 * x / float(x.sum()))\n",
    "covid_tweet_percentage"
   ]
  },
  {
   "cell_type": "code",
   "execution_count": null,
   "metadata": {},
   "outputs": [],
   "source": [
    "#-------------------------- ignore_retweets = True\n",
    "\n",
    "# date        is_covid_tweet\n",
    "# 2020-05-03  no                30.270485\n",
    "#             yes               69.729515\n",
    "# 2020-05-10  no                33.260499\n",
    "#             yes               66.739501\n",
    "# 2020-05-17  no                32.564128\n",
    "#             yes               67.435872\n",
    "# 2020-05-24  no                34.233223\n",
    "#             yes               65.766777\n",
    "# Name: original_text, dtype: float64"
   ]
  },
  {
   "cell_type": "code",
   "execution_count": 403,
   "metadata": {},
   "outputs": [],
   "source": [
    "#-------------------------- ignore_retweets = False\n",
    "\n",
    "# date        is_covid_tweet\n",
    "# 2020-05-03  no                31.928411\n",
    "#             yes               68.071589\n",
    "# 2020-05-10  no                34.217659\n",
    "#             yes               65.782341\n",
    "# 2020-05-17  no                33.924521\n",
    "#             yes               66.075479\n",
    "# 2020-05-24  no                29.604738\n",
    "#             yes               70.395262\n",
    "# Name: original_text, dtype: float64"
   ]
  },
  {
   "cell_type": "code",
   "execution_count": null,
   "metadata": {},
   "outputs": [],
   "source": []
  },
  {
   "cell_type": "code",
   "execution_count": null,
   "metadata": {},
   "outputs": [],
   "source": []
  }
 ],
 "metadata": {
  "kernelspec": {
   "display_name": "Python 3",
   "language": "python",
   "name": "python3"
  },
  "language_info": {
   "codemirror_mode": {
    "name": "ipython",
    "version": 3
   },
   "file_extension": ".py",
   "mimetype": "text/x-python",
   "name": "python",
   "nbconvert_exporter": "python",
   "pygments_lexer": "ipython3",
   "version": "3.7.4"
  }
 },
 "nbformat": 4,
 "nbformat_minor": 4
}
