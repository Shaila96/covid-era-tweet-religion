{
 "cells": [
  {
   "cell_type": "code",
   "execution_count": 144,
   "metadata": {},
   "outputs": [],
   "source": [
    "import pandas as pd\n",
    "import pandas as pd\n",
    "import matplotlib.pyplot as plt\n",
    "import seaborn as sns\n",
    "\n",
    "%matplotlib inline\n",
    "\n",
    "\n",
    "import datetime\n",
    "import glob\n",
    "\n",
    "\n",
    "import nltk\n",
    "import string, re\n",
    "\n",
    "from sklearn.feature_extraction.text import TfidfVectorizer\n",
    "\n",
    "\n",
    "\n",
    "stopwords = nltk.corpus.stopwords.words('english')\n",
    "ps = nltk.PorterStemmer()\n",
    "wl = nltk.stem.WordNetLemmatizer()\n",
    "\n"
   ]
  },
  {
   "cell_type": "code",
   "execution_count": 145,
   "metadata": {},
   "outputs": [],
   "source": [
    "covid_words = open(\"data/covid_words.txt\").read().split()\n",
    "religious_words = list(pd.read_csv('data/religious_words_final_df.csv').religious_words)"
   ]
  },
  {
   "cell_type": "code",
   "execution_count": 146,
   "metadata": {},
   "outputs": [
    {
     "name": "stdout",
     "output_type": "stream",
     "text": [
      "data/twitter_data/covid_data_May24.csv 24 378386\n",
      "data/twitter_data/covid_data_May3.csv 3 391293\n",
      "data/twitter_data/covid_data_May10.csv 10 881233\n",
      "data/twitter_data/covid_data_May17.csv 17 1292103\n"
     ]
    }
   ],
   "source": [
    "###########################################################\n",
    "features = ['lang', 'created_at', 'original_text', 'clean_text', 'sentiment', 'location']\n",
    "df = pd.DataFrame()\n",
    "\n",
    "for fname in glob.glob(r\"data/twitter_data/*.csv\"):\n",
    "    day_df=pd.read_csv(fname, low_memory=False)\n",
    "    ### day_df['date']= datetime.date(2020, 5, int(fname.partition(\"May\")[2][:-4]))\n",
    "    df=df.append(day_df[features])\n",
    "    print(fname, fname.partition(\"May\")[2][:-4], len(df))\n",
    "\n",
    "df = df[df.lang=='en'].drop('lang', axis=1)\n",
    "df.to_csv('data/covid_data_full.csv', index=False)\n",
    "###########################################################"
   ]
  },
  {
   "cell_type": "code",
   "execution_count": 147,
   "metadata": {},
   "outputs": [
    {
     "data": {
      "text/html": [
       "<div>\n",
       "<style scoped>\n",
       "    .dataframe tbody tr th:only-of-type {\n",
       "        vertical-align: middle;\n",
       "    }\n",
       "\n",
       "    .dataframe tbody tr th {\n",
       "        vertical-align: top;\n",
       "    }\n",
       "\n",
       "    .dataframe thead th {\n",
       "        text-align: right;\n",
       "    }\n",
       "</style>\n",
       "<table border=\"1\" class=\"dataframe\">\n",
       "  <thead>\n",
       "    <tr style=\"text-align: right;\">\n",
       "      <th></th>\n",
       "      <th>created_at</th>\n",
       "      <th>original_text</th>\n",
       "      <th>clean_text</th>\n",
       "      <th>sentiment</th>\n",
       "      <th>location</th>\n",
       "    </tr>\n",
       "  </thead>\n",
       "  <tbody>\n",
       "    <tr>\n",
       "      <td>0</td>\n",
       "      <td>Sun May 24 23:59:59 +0000 2020</td>\n",
       "      <td>RT @morethanmySLE: Dr. Birx leaves the America...</td>\n",
       "      <td>RT morethanmySLE Dr. Birx leaves American peop...</td>\n",
       "      <td>Sentiment(polarity=0.0, subjectivity=0.0)</td>\n",
       "      <td>NaN</td>\n",
       "    </tr>\n",
       "    <tr>\n",
       "      <td>1</td>\n",
       "      <td>Sun May 24 23:59:59 +0000 2020</td>\n",
       "      <td>RT @KaitSnod: There is no Corona Virus in Amer...</td>\n",
       "      <td>RT KaitSnod There Corona Virus America https /...</td>\n",
       "      <td>Sentiment(polarity=0.0, subjectivity=0.0)</td>\n",
       "      <td>At the link down below 👀</td>\n",
       "    </tr>\n",
       "  </tbody>\n",
       "</table>\n",
       "</div>"
      ],
      "text/plain": [
       "                       created_at  \\\n",
       "0  Sun May 24 23:59:59 +0000 2020   \n",
       "1  Sun May 24 23:59:59 +0000 2020   \n",
       "\n",
       "                                       original_text  \\\n",
       "0  RT @morethanmySLE: Dr. Birx leaves the America...   \n",
       "1  RT @KaitSnod: There is no Corona Virus in Amer...   \n",
       "\n",
       "                                          clean_text  \\\n",
       "0  RT morethanmySLE Dr. Birx leaves American peop...   \n",
       "1  RT KaitSnod There Corona Virus America https /...   \n",
       "\n",
       "                                   sentiment                  location  \n",
       "0  Sentiment(polarity=0.0, subjectivity=0.0)                       NaN  \n",
       "1  Sentiment(polarity=0.0, subjectivity=0.0)  At the link down below 👀  "
      ]
     },
     "execution_count": 147,
     "metadata": {},
     "output_type": "execute_result"
    }
   ],
   "source": [
    "df = pd.read_csv('data/covid_data_full.csv', index_col=False, low_memory=False)\n",
    "df.head(2)"
   ]
  },
  {
   "cell_type": "code",
   "execution_count": null,
   "metadata": {},
   "outputs": [],
   "source": [
    "\n",
    "\n",
    "\n",
    "\n",
    "\n",
    "\n",
    "\n",
    "\n",
    "\n",
    "\n",
    "\n",
    "\n",
    "\n"
   ]
  },
  {
   "cell_type": "code",
   "execution_count": 148,
   "metadata": {},
   "outputs": [],
   "source": [
    "def clean_twitter(text):\n",
    "    text = \"\".join([char.lower() for char in text if char not in string.punctuation])\n",
    "    tokens = re.split('\\W+', text)\n",
    "    ### text = [ps.stem(wl.lemmatize(word)) for word in tokens if word not in stopwords]\n",
    "    text = [word for word in tokens if word not in stopwords]\n",
    "#     for word in text.copy():\n",
    "#         text.append(wl.lemmatize(word))\n",
    "#         text.append(ps.stem(word))\n",
    "        \n",
    "    return \" \".join(list(set(text)))\n",
    "\n",
    "# clean_twitter(\"D@on't do that ! runn@er running!!!\")"
   ]
  },
  {
   "cell_type": "code",
   "execution_count": 149,
   "metadata": {},
   "outputs": [
    {
     "data": {
      "text/html": [
       "<div>\n",
       "<style scoped>\n",
       "    .dataframe tbody tr th:only-of-type {\n",
       "        vertical-align: middle;\n",
       "    }\n",
       "\n",
       "    .dataframe tbody tr th {\n",
       "        vertical-align: top;\n",
       "    }\n",
       "\n",
       "    .dataframe thead th {\n",
       "        text-align: right;\n",
       "    }\n",
       "</style>\n",
       "<table border=\"1\" class=\"dataframe\">\n",
       "  <thead>\n",
       "    <tr style=\"text-align: right;\">\n",
       "      <th></th>\n",
       "      <th>created_at</th>\n",
       "      <th>original_text</th>\n",
       "      <th>clean_text</th>\n",
       "      <th>sentiment</th>\n",
       "      <th>location</th>\n",
       "      <th>final_text</th>\n",
       "    </tr>\n",
       "  </thead>\n",
       "  <tbody>\n",
       "    <tr>\n",
       "      <td>0</td>\n",
       "      <td>Sun May 24 23:59:59 +0000 2020</td>\n",
       "      <td>RT @morethanmySLE: Dr. Birx leaves the America...</td>\n",
       "      <td>RT morethanmySLE Dr. Birx leaves American peop...</td>\n",
       "      <td>Sentiment(polarity=0.0, subjectivity=0.0)</td>\n",
       "      <td>NaN</td>\n",
       "      <td>rt leaves dr people covid19 answers birx moret...</td>\n",
       "    </tr>\n",
       "    <tr>\n",
       "      <td>1</td>\n",
       "      <td>Sun May 24 23:59:59 +0000 2020</td>\n",
       "      <td>RT @KaitSnod: There is no Corona Virus in Amer...</td>\n",
       "      <td>RT KaitSnod There Corona Virus America https /...</td>\n",
       "      <td>Sentiment(polarity=0.0, subjectivity=0.0)</td>\n",
       "      <td>At the link down below 👀</td>\n",
       "      <td>rt virus corona kaitsnod tcoz9ndlkz3ml https a...</td>\n",
       "    </tr>\n",
       "  </tbody>\n",
       "</table>\n",
       "</div>"
      ],
      "text/plain": [
       "                       created_at  \\\n",
       "0  Sun May 24 23:59:59 +0000 2020   \n",
       "1  Sun May 24 23:59:59 +0000 2020   \n",
       "\n",
       "                                       original_text  \\\n",
       "0  RT @morethanmySLE: Dr. Birx leaves the America...   \n",
       "1  RT @KaitSnod: There is no Corona Virus in Amer...   \n",
       "\n",
       "                                          clean_text  \\\n",
       "0  RT morethanmySLE Dr. Birx leaves American peop...   \n",
       "1  RT KaitSnod There Corona Virus America https /...   \n",
       "\n",
       "                                   sentiment                  location  \\\n",
       "0  Sentiment(polarity=0.0, subjectivity=0.0)                       NaN   \n",
       "1  Sentiment(polarity=0.0, subjectivity=0.0)  At the link down below 👀   \n",
       "\n",
       "                                          final_text  \n",
       "0  rt leaves dr people covid19 answers birx moret...  \n",
       "1  rt virus corona kaitsnod tcoz9ndlkz3ml https a...  "
      ]
     },
     "execution_count": 149,
     "metadata": {},
     "output_type": "execute_result"
    }
   ],
   "source": [
    "# df['clean_text_old'] = df['clean_text']\n",
    "df['final_text'] = df['clean_text'].apply(lambda x: clean_twitter(x))\n",
    "df.head(2)"
   ]
  },
  {
   "cell_type": "code",
   "execution_count": 150,
   "metadata": {},
   "outputs": [
    {
     "data": {
      "text/plain": [
       "'allah, amen, islam, ramadan'"
      ]
     },
     "execution_count": 150,
     "metadata": {},
     "output_type": "execute_result"
    }
   ],
   "source": [
    "def find_religious_words(text):\n",
    "########################################################################\n",
    "###     return \", \".join(list(set(text.split()) & set(religious_words)))\n",
    "########################################################################\n",
    "\n",
    "    matched_words = list(filter(lambda x: x in text, religious_words))\n",
    "    common_words = list()\n",
    "    \n",
    "    for idx_1, word_1 in enumerate(matched_words):\n",
    "        for idx_2, word_2 in enumerate(matched_words[idx_1+1:]):\n",
    "            if word_1 in word_2:\n",
    "                common_words.append(word_1)\n",
    "\n",
    "    final_matched_words = [x for x in matched_words if x not in set(common_words)]\n",
    "    \n",
    "    return \", \".join(final_matched_words)\n",
    "                \n",
    "find_religious_words('allah help me pls, amen! islam&peace ignore ram include ramadan')"
   ]
  },
  {
   "cell_type": "code",
   "execution_count": 151,
   "metadata": {},
   "outputs": [
    {
     "data": {
      "text/html": [
       "<div>\n",
       "<style scoped>\n",
       "    .dataframe tbody tr th:only-of-type {\n",
       "        vertical-align: middle;\n",
       "    }\n",
       "\n",
       "    .dataframe tbody tr th {\n",
       "        vertical-align: top;\n",
       "    }\n",
       "\n",
       "    .dataframe thead th {\n",
       "        text-align: right;\n",
       "    }\n",
       "</style>\n",
       "<table border=\"1\" class=\"dataframe\">\n",
       "  <thead>\n",
       "    <tr style=\"text-align: right;\">\n",
       "      <th></th>\n",
       "      <th>created_at</th>\n",
       "      <th>original_text</th>\n",
       "      <th>clean_text</th>\n",
       "      <th>sentiment</th>\n",
       "      <th>location</th>\n",
       "      <th>final_text</th>\n",
       "      <th>religious_text</th>\n",
       "    </tr>\n",
       "  </thead>\n",
       "  <tbody>\n",
       "    <tr>\n",
       "      <td>0</td>\n",
       "      <td>Sun May 24 23:59:59 +0000 2020</td>\n",
       "      <td>RT @morethanmySLE: Dr. Birx leaves the America...</td>\n",
       "      <td>RT morethanmySLE Dr. Birx leaves American peop...</td>\n",
       "      <td>Sentiment(polarity=0.0, subjectivity=0.0)</td>\n",
       "      <td>NaN</td>\n",
       "      <td>rt leaves dr people covid19 answers birx moret...</td>\n",
       "      <td></td>\n",
       "    </tr>\n",
       "    <tr>\n",
       "      <td>1</td>\n",
       "      <td>Sun May 24 23:59:59 +0000 2020</td>\n",
       "      <td>RT @KaitSnod: There is no Corona Virus in Amer...</td>\n",
       "      <td>RT KaitSnod There Corona Virus America https /...</td>\n",
       "      <td>Sentiment(polarity=0.0, subjectivity=0.0)</td>\n",
       "      <td>At the link down below 👀</td>\n",
       "      <td>rt virus corona kaitsnod tcoz9ndlkz3ml https a...</td>\n",
       "      <td></td>\n",
       "    </tr>\n",
       "  </tbody>\n",
       "</table>\n",
       "</div>"
      ],
      "text/plain": [
       "                       created_at  \\\n",
       "0  Sun May 24 23:59:59 +0000 2020   \n",
       "1  Sun May 24 23:59:59 +0000 2020   \n",
       "\n",
       "                                       original_text  \\\n",
       "0  RT @morethanmySLE: Dr. Birx leaves the America...   \n",
       "1  RT @KaitSnod: There is no Corona Virus in Amer...   \n",
       "\n",
       "                                          clean_text  \\\n",
       "0  RT morethanmySLE Dr. Birx leaves American peop...   \n",
       "1  RT KaitSnod There Corona Virus America https /...   \n",
       "\n",
       "                                   sentiment                  location  \\\n",
       "0  Sentiment(polarity=0.0, subjectivity=0.0)                       NaN   \n",
       "1  Sentiment(polarity=0.0, subjectivity=0.0)  At the link down below 👀   \n",
       "\n",
       "                                          final_text religious_text  \n",
       "0  rt leaves dr people covid19 answers birx moret...                 \n",
       "1  rt virus corona kaitsnod tcoz9ndlkz3ml https a...                 "
      ]
     },
     "execution_count": 151,
     "metadata": {},
     "output_type": "execute_result"
    }
   ],
   "source": [
    "df['religious_text'] = df['final_text'].apply(lambda x: find_religious_words(x))\n",
    "df.head(2)"
   ]
  },
  {
   "cell_type": "code",
   "execution_count": 152,
   "metadata": {},
   "outputs": [
    {
     "data": {
      "text/html": [
       "<div>\n",
       "<style scoped>\n",
       "    .dataframe tbody tr th:only-of-type {\n",
       "        vertical-align: middle;\n",
       "    }\n",
       "\n",
       "    .dataframe tbody tr th {\n",
       "        vertical-align: top;\n",
       "    }\n",
       "\n",
       "    .dataframe thead th {\n",
       "        text-align: right;\n",
       "    }\n",
       "</style>\n",
       "<table border=\"1\" class=\"dataframe\">\n",
       "  <thead>\n",
       "    <tr style=\"text-align: right;\">\n",
       "      <th></th>\n",
       "      <th>created_at</th>\n",
       "      <th>original_text</th>\n",
       "      <th>clean_text</th>\n",
       "      <th>sentiment</th>\n",
       "      <th>location</th>\n",
       "      <th>final_text</th>\n",
       "      <th>religious_text</th>\n",
       "    </tr>\n",
       "  </thead>\n",
       "  <tbody>\n",
       "    <tr>\n",
       "      <td>0</td>\n",
       "      <td>Sun May 24 23:59:59 +0000 2020</td>\n",
       "      <td>RT @morethanmySLE: Dr. Birx leaves the America...</td>\n",
       "      <td>RT morethanmySLE Dr. Birx leaves American peop...</td>\n",
       "      <td>Sentiment(polarity=0.0, subjectivity=0.0)</td>\n",
       "      <td>NaN</td>\n",
       "      <td>rt leaves dr people covid19 answers birx moret...</td>\n",
       "      <td></td>\n",
       "    </tr>\n",
       "    <tr>\n",
       "      <td>828385</td>\n",
       "      <td>Sun May 10 05:19:14 +0000 2020</td>\n",
       "      <td>RT @ABsteward: NEW @JAMA_current\\nInterpreting...</td>\n",
       "      <td>RT ABsteward NEW JAMA_current Interpreting Dia...</td>\n",
       "      <td>Sentiment(polarity=0.13636363636363635, subjec...</td>\n",
       "      <td>ÜT: -2.149611,106.131112</td>\n",
       "      <td>rt tcoys7panhsp1 new diagnostic tests interpre...</td>\n",
       "      <td></td>\n",
       "    </tr>\n",
       "  </tbody>\n",
       "</table>\n",
       "</div>"
      ],
      "text/plain": [
       "                            created_at  \\\n",
       "0       Sun May 24 23:59:59 +0000 2020   \n",
       "828385  Sun May 10 05:19:14 +0000 2020   \n",
       "\n",
       "                                            original_text  \\\n",
       "0       RT @morethanmySLE: Dr. Birx leaves the America...   \n",
       "828385  RT @ABsteward: NEW @JAMA_current\\nInterpreting...   \n",
       "\n",
       "                                               clean_text  \\\n",
       "0       RT morethanmySLE Dr. Birx leaves American peop...   \n",
       "828385  RT ABsteward NEW JAMA_current Interpreting Dia...   \n",
       "\n",
       "                                                sentiment  \\\n",
       "0               Sentiment(polarity=0.0, subjectivity=0.0)   \n",
       "828385  Sentiment(polarity=0.13636363636363635, subjec...   \n",
       "\n",
       "                        location  \\\n",
       "0                            NaN   \n",
       "828385  ÜT: -2.149611,106.131112   \n",
       "\n",
       "                                               final_text religious_text  \n",
       "0       rt leaves dr people covid19 answers birx moret...                 \n",
       "828385  rt tcoys7panhsp1 new diagnostic tests interpre...                 "
      ]
     },
     "execution_count": 152,
     "metadata": {},
     "output_type": "execute_result"
    }
   ],
   "source": [
    "# df=df.loc[df['religious_text']!='']\n",
    "df=df.sort_values('religious_text')\n",
    "df.head(2)"
   ]
  },
  {
   "cell_type": "code",
   "execution_count": null,
   "metadata": {},
   "outputs": [],
   "source": []
  },
  {
   "cell_type": "code",
   "execution_count": null,
   "metadata": {},
   "outputs": [],
   "source": []
  },
  {
   "cell_type": "code",
   "execution_count": null,
   "metadata": {},
   "outputs": [],
   "source": []
  },
  {
   "cell_type": "code",
   "execution_count": 153,
   "metadata": {},
   "outputs": [
    {
     "data": {
      "text/html": [
       "<div>\n",
       "<style scoped>\n",
       "    .dataframe tbody tr th:only-of-type {\n",
       "        vertical-align: middle;\n",
       "    }\n",
       "\n",
       "    .dataframe tbody tr th {\n",
       "        vertical-align: top;\n",
       "    }\n",
       "\n",
       "    .dataframe thead th {\n",
       "        text-align: right;\n",
       "    }\n",
       "</style>\n",
       "<table border=\"1\" class=\"dataframe\">\n",
       "  <thead>\n",
       "    <tr style=\"text-align: right;\">\n",
       "      <th></th>\n",
       "      <th>created_at</th>\n",
       "      <th>original_text</th>\n",
       "      <th>clean_text</th>\n",
       "      <th>sentiment</th>\n",
       "      <th>location</th>\n",
       "      <th>final_text</th>\n",
       "      <th>religious_text</th>\n",
       "      <th>is_religious_tweet</th>\n",
       "    </tr>\n",
       "  </thead>\n",
       "  <tbody>\n",
       "    <tr>\n",
       "      <td>0</td>\n",
       "      <td>Sun May 24 23:59:59 +0000 2020</td>\n",
       "      <td>RT @morethanmySLE: Dr. Birx leaves the America...</td>\n",
       "      <td>RT morethanmySLE Dr. Birx leaves American peop...</td>\n",
       "      <td>Sentiment(polarity=0.0, subjectivity=0.0)</td>\n",
       "      <td>NaN</td>\n",
       "      <td>rt leaves dr people covid19 answers birx moret...</td>\n",
       "      <td></td>\n",
       "      <td>no</td>\n",
       "    </tr>\n",
       "    <tr>\n",
       "      <td>828385</td>\n",
       "      <td>Sun May 10 05:19:14 +0000 2020</td>\n",
       "      <td>RT @ABsteward: NEW @JAMA_current\\nInterpreting...</td>\n",
       "      <td>RT ABsteward NEW JAMA_current Interpreting Dia...</td>\n",
       "      <td>Sentiment(polarity=0.13636363636363635, subjec...</td>\n",
       "      <td>ÜT: -2.149611,106.131112</td>\n",
       "      <td>rt tcoys7panhsp1 new diagnostic tests interpre...</td>\n",
       "      <td></td>\n",
       "      <td>no</td>\n",
       "    </tr>\n",
       "  </tbody>\n",
       "</table>\n",
       "</div>"
      ],
      "text/plain": [
       "                            created_at  \\\n",
       "0       Sun May 24 23:59:59 +0000 2020   \n",
       "828385  Sun May 10 05:19:14 +0000 2020   \n",
       "\n",
       "                                            original_text  \\\n",
       "0       RT @morethanmySLE: Dr. Birx leaves the America...   \n",
       "828385  RT @ABsteward: NEW @JAMA_current\\nInterpreting...   \n",
       "\n",
       "                                               clean_text  \\\n",
       "0       RT morethanmySLE Dr. Birx leaves American peop...   \n",
       "828385  RT ABsteward NEW JAMA_current Interpreting Dia...   \n",
       "\n",
       "                                                sentiment  \\\n",
       "0               Sentiment(polarity=0.0, subjectivity=0.0)   \n",
       "828385  Sentiment(polarity=0.13636363636363635, subjec...   \n",
       "\n",
       "                        location  \\\n",
       "0                            NaN   \n",
       "828385  ÜT: -2.149611,106.131112   \n",
       "\n",
       "                                               final_text religious_text  \\\n",
       "0       rt leaves dr people covid19 answers birx moret...                  \n",
       "828385  rt tcoys7panhsp1 new diagnostic tests interpre...                  \n",
       "\n",
       "       is_religious_tweet  \n",
       "0                      no  \n",
       "828385                 no  "
      ]
     },
     "execution_count": 153,
     "metadata": {},
     "output_type": "execute_result"
    }
   ],
   "source": [
    "df.loc[df['religious_text']!='', 'is_religious_tweet'] = 'yes'\n",
    "df.loc[df['religious_text']=='', 'is_religious_tweet'] = 'no'\n",
    "df.head(2)"
   ]
  },
  {
   "cell_type": "code",
   "execution_count": 154,
   "metadata": {},
   "outputs": [
    {
     "data": {
      "text/plain": [
       "(242267, 1049830)"
      ]
     },
     "execution_count": 154,
     "metadata": {},
     "output_type": "execute_result"
    }
   ],
   "source": [
    "len(df[df.is_religious_tweet=='yes']), len(df[df.is_religious_tweet=='no'])"
   ]
  },
  {
   "cell_type": "code",
   "execution_count": 155,
   "metadata": {},
   "outputs": [
    {
     "data": {
      "text/html": [
       "<div>\n",
       "<style scoped>\n",
       "    .dataframe tbody tr th:only-of-type {\n",
       "        vertical-align: middle;\n",
       "    }\n",
       "\n",
       "    .dataframe tbody tr th {\n",
       "        vertical-align: top;\n",
       "    }\n",
       "\n",
       "    .dataframe thead th {\n",
       "        text-align: right;\n",
       "    }\n",
       "</style>\n",
       "<table border=\"1\" class=\"dataframe\">\n",
       "  <thead>\n",
       "    <tr style=\"text-align: right;\">\n",
       "      <th></th>\n",
       "      <th>created_at</th>\n",
       "      <th>original_text</th>\n",
       "      <th>clean_text</th>\n",
       "      <th>sentiment</th>\n",
       "      <th>location</th>\n",
       "      <th>final_text</th>\n",
       "      <th>religious_text</th>\n",
       "      <th>is_religious_tweet</th>\n",
       "      <th>polarity</th>\n",
       "      <th>subjectivity</th>\n",
       "    </tr>\n",
       "  </thead>\n",
       "  <tbody>\n",
       "    <tr>\n",
       "      <td>0</td>\n",
       "      <td>Sun May 24 23:59:59 +0000 2020</td>\n",
       "      <td>RT @morethanmySLE: Dr. Birx leaves the America...</td>\n",
       "      <td>RT morethanmySLE Dr. Birx leaves American peop...</td>\n",
       "      <td>Sentiment(polarity=0.0, subjectivity=0.0)</td>\n",
       "      <td>NaN</td>\n",
       "      <td>rt leaves dr people covid19 answers birx moret...</td>\n",
       "      <td></td>\n",
       "      <td>no</td>\n",
       "      <td>0.000000</td>\n",
       "      <td>0.000000</td>\n",
       "    </tr>\n",
       "    <tr>\n",
       "      <td>828385</td>\n",
       "      <td>Sun May 10 05:19:14 +0000 2020</td>\n",
       "      <td>RT @ABsteward: NEW @JAMA_current\\nInterpreting...</td>\n",
       "      <td>RT ABsteward NEW JAMA_current Interpreting Dia...</td>\n",
       "      <td>Sentiment(polarity=0.13636363636363635, subjec...</td>\n",
       "      <td>ÜT: -2.149611,106.131112</td>\n",
       "      <td>rt tcoys7panhsp1 new diagnostic tests interpre...</td>\n",
       "      <td></td>\n",
       "      <td>no</td>\n",
       "      <td>0.136364</td>\n",
       "      <td>0.454545</td>\n",
       "    </tr>\n",
       "  </tbody>\n",
       "</table>\n",
       "</div>"
      ],
      "text/plain": [
       "                            created_at  \\\n",
       "0       Sun May 24 23:59:59 +0000 2020   \n",
       "828385  Sun May 10 05:19:14 +0000 2020   \n",
       "\n",
       "                                            original_text  \\\n",
       "0       RT @morethanmySLE: Dr. Birx leaves the America...   \n",
       "828385  RT @ABsteward: NEW @JAMA_current\\nInterpreting...   \n",
       "\n",
       "                                               clean_text  \\\n",
       "0       RT morethanmySLE Dr. Birx leaves American peop...   \n",
       "828385  RT ABsteward NEW JAMA_current Interpreting Dia...   \n",
       "\n",
       "                                                sentiment  \\\n",
       "0               Sentiment(polarity=0.0, subjectivity=0.0)   \n",
       "828385  Sentiment(polarity=0.13636363636363635, subjec...   \n",
       "\n",
       "                        location  \\\n",
       "0                            NaN   \n",
       "828385  ÜT: -2.149611,106.131112   \n",
       "\n",
       "                                               final_text religious_text  \\\n",
       "0       rt leaves dr people covid19 answers birx moret...                  \n",
       "828385  rt tcoys7panhsp1 new diagnostic tests interpre...                  \n",
       "\n",
       "       is_religious_tweet  polarity  subjectivity  \n",
       "0                      no  0.000000      0.000000  \n",
       "828385                 no  0.136364      0.454545  "
      ]
     },
     "execution_count": 155,
     "metadata": {},
     "output_type": "execute_result"
    }
   ],
   "source": [
    "def parse_sentiment(sentiment, pattern):\n",
    "    result = re.search(pattern, sentiment)\n",
    "    return float(result.group(1))\n",
    "\n",
    "df['polarity'] = df['sentiment'].apply(lambda x: parse_sentiment(x, 'Sentiment\\(polarity=(.*), subjectivity=.*'))\n",
    "df['subjectivity'] = df['sentiment'].apply(lambda x: parse_sentiment(x, '.*subjectivity=(.*)\\)'))\n",
    "df.head(2)"
   ]
  },
  {
   "cell_type": "code",
   "execution_count": 156,
   "metadata": {},
   "outputs": [
    {
     "data": {
      "text/html": [
       "<div>\n",
       "<style scoped>\n",
       "    .dataframe tbody tr th:only-of-type {\n",
       "        vertical-align: middle;\n",
       "    }\n",
       "\n",
       "    .dataframe tbody tr th {\n",
       "        vertical-align: top;\n",
       "    }\n",
       "\n",
       "    .dataframe thead th {\n",
       "        text-align: right;\n",
       "    }\n",
       "</style>\n",
       "<table border=\"1\" class=\"dataframe\">\n",
       "  <thead>\n",
       "    <tr style=\"text-align: right;\">\n",
       "      <th></th>\n",
       "      <th>created_at</th>\n",
       "      <th>original_text</th>\n",
       "      <th>clean_text</th>\n",
       "      <th>sentiment</th>\n",
       "      <th>location</th>\n",
       "      <th>final_text</th>\n",
       "      <th>religious_text</th>\n",
       "      <th>is_religious_tweet</th>\n",
       "      <th>polarity</th>\n",
       "      <th>subjectivity</th>\n",
       "      <th>date</th>\n",
       "    </tr>\n",
       "  </thead>\n",
       "  <tbody>\n",
       "    <tr>\n",
       "      <td>0</td>\n",
       "      <td>Sun May 24 23:59:59 +0000 2020</td>\n",
       "      <td>RT @morethanmySLE: Dr. Birx leaves the America...</td>\n",
       "      <td>RT morethanmySLE Dr. Birx leaves American peop...</td>\n",
       "      <td>Sentiment(polarity=0.0, subjectivity=0.0)</td>\n",
       "      <td>NaN</td>\n",
       "      <td>rt leaves dr people covid19 answers birx moret...</td>\n",
       "      <td></td>\n",
       "      <td>no</td>\n",
       "      <td>0.000000</td>\n",
       "      <td>0.000000</td>\n",
       "      <td>2020-05-24</td>\n",
       "    </tr>\n",
       "    <tr>\n",
       "      <td>828385</td>\n",
       "      <td>Sun May 10 05:19:14 +0000 2020</td>\n",
       "      <td>RT @ABsteward: NEW @JAMA_current\\nInterpreting...</td>\n",
       "      <td>RT ABsteward NEW JAMA_current Interpreting Dia...</td>\n",
       "      <td>Sentiment(polarity=0.13636363636363635, subjec...</td>\n",
       "      <td>ÜT: -2.149611,106.131112</td>\n",
       "      <td>rt tcoys7panhsp1 new diagnostic tests interpre...</td>\n",
       "      <td></td>\n",
       "      <td>no</td>\n",
       "      <td>0.136364</td>\n",
       "      <td>0.454545</td>\n",
       "      <td>2020-05-10</td>\n",
       "    </tr>\n",
       "  </tbody>\n",
       "</table>\n",
       "</div>"
      ],
      "text/plain": [
       "                            created_at  \\\n",
       "0       Sun May 24 23:59:59 +0000 2020   \n",
       "828385  Sun May 10 05:19:14 +0000 2020   \n",
       "\n",
       "                                            original_text  \\\n",
       "0       RT @morethanmySLE: Dr. Birx leaves the America...   \n",
       "828385  RT @ABsteward: NEW @JAMA_current\\nInterpreting...   \n",
       "\n",
       "                                               clean_text  \\\n",
       "0       RT morethanmySLE Dr. Birx leaves American peop...   \n",
       "828385  RT ABsteward NEW JAMA_current Interpreting Dia...   \n",
       "\n",
       "                                                sentiment  \\\n",
       "0               Sentiment(polarity=0.0, subjectivity=0.0)   \n",
       "828385  Sentiment(polarity=0.13636363636363635, subjec...   \n",
       "\n",
       "                        location  \\\n",
       "0                            NaN   \n",
       "828385  ÜT: -2.149611,106.131112   \n",
       "\n",
       "                                               final_text religious_text  \\\n",
       "0       rt leaves dr people covid19 answers birx moret...                  \n",
       "828385  rt tcoys7panhsp1 new diagnostic tests interpre...                  \n",
       "\n",
       "       is_religious_tweet  polarity  subjectivity       date  \n",
       "0                      no  0.000000      0.000000 2020-05-24  \n",
       "828385                 no  0.136364      0.454545 2020-05-10  "
      ]
     },
     "execution_count": 156,
     "metadata": {},
     "output_type": "execute_result"
    }
   ],
   "source": [
    "df['date'] = df['created_at'].apply(lambda x: pd.to_datetime(x[4:10]+' 2020', format=\"%b %d %Y\"))\n",
    "df.head(2)"
   ]
  },
  {
   "cell_type": "code",
   "execution_count": null,
   "metadata": {},
   "outputs": [],
   "source": []
  },
  {
   "cell_type": "code",
   "execution_count": null,
   "metadata": {},
   "outputs": [],
   "source": []
  },
  {
   "cell_type": "code",
   "execution_count": null,
   "metadata": {},
   "outputs": [],
   "source": []
  },
  {
   "cell_type": "code",
   "execution_count": null,
   "metadata": {},
   "outputs": [],
   "source": []
  },
  {
   "cell_type": "code",
   "execution_count": null,
   "metadata": {},
   "outputs": [],
   "source": []
  },
  {
   "cell_type": "code",
   "execution_count": 157,
   "metadata": {},
   "outputs": [],
   "source": [
    "df.to_csv('data/religious_twitter_df.csv', index=False)"
   ]
  },
  {
   "cell_type": "code",
   "execution_count": 158,
   "metadata": {},
   "outputs": [],
   "source": [
    "df.iloc[:10000,].to_csv('data/religious_twitter_mini_df.csv', index=False)"
   ]
  },
  {
   "cell_type": "code",
   "execution_count": null,
   "metadata": {},
   "outputs": [],
   "source": []
  },
  {
   "cell_type": "code",
   "execution_count": null,
   "metadata": {},
   "outputs": [],
   "source": []
  },
  {
   "cell_type": "code",
   "execution_count": null,
   "metadata": {},
   "outputs": [],
   "source": []
  },
  {
   "cell_type": "code",
   "execution_count": 159,
   "metadata": {},
   "outputs": [
    {
     "data": {
      "text/html": [
       "<div>\n",
       "<style scoped>\n",
       "    .dataframe tbody tr th:only-of-type {\n",
       "        vertical-align: middle;\n",
       "    }\n",
       "\n",
       "    .dataframe tbody tr th {\n",
       "        vertical-align: top;\n",
       "    }\n",
       "\n",
       "    .dataframe thead th {\n",
       "        text-align: right;\n",
       "    }\n",
       "</style>\n",
       "<table border=\"1\" class=\"dataframe\">\n",
       "  <thead>\n",
       "    <tr style=\"text-align: right;\">\n",
       "      <th></th>\n",
       "      <th>created_at</th>\n",
       "      <th>original_text</th>\n",
       "      <th>clean_text</th>\n",
       "      <th>sentiment</th>\n",
       "      <th>location</th>\n",
       "      <th>final_text</th>\n",
       "      <th>religious_text</th>\n",
       "      <th>is_religious_tweet</th>\n",
       "      <th>polarity</th>\n",
       "      <th>subjectivity</th>\n",
       "      <th>date</th>\n",
       "    </tr>\n",
       "  </thead>\n",
       "  <tbody>\n",
       "    <tr>\n",
       "      <td>773298</td>\n",
       "      <td>Sun May 10 08:47:34 +0000 2020</td>\n",
       "      <td>Tom Hanks speech on ”The New World Order” and ...</td>\n",
       "      <td>Tom Hanks speech ” The New World Order ” after...</td>\n",
       "      <td>Sentiment(polarity=0.13636363636363635, subjec...</td>\n",
       "      <td>Sverige</td>\n",
       "      <td>tom order new https ones speech chosen afterli...</td>\n",
       "      <td>afterlife</td>\n",
       "      <td>yes</td>\n",
       "      <td>0.136364</td>\n",
       "      <td>0.454545</td>\n",
       "      <td>2020-05-10</td>\n",
       "    </tr>\n",
       "    <tr>\n",
       "      <td>421701</td>\n",
       "      <td>Sun May 10 22:22:35 +0000 2020</td>\n",
       "      <td>You never know when you're gonna go! #Death #A...</td>\n",
       "      <td>You never know 're gon na go Death Afterlife G...</td>\n",
       "      <td>Sentiment(polarity=0.0, subjectivity=0.0)</td>\n",
       "      <td>Watford, England</td>\n",
       "      <td>death na gon ghost know paranormal afterlife c...</td>\n",
       "      <td>afterlife</td>\n",
       "      <td>yes</td>\n",
       "      <td>0.000000</td>\n",
       "      <td>0.000000</td>\n",
       "      <td>2020-05-10</td>\n",
       "    </tr>\n",
       "  </tbody>\n",
       "</table>\n",
       "</div>"
      ],
      "text/plain": [
       "                            created_at  \\\n",
       "773298  Sun May 10 08:47:34 +0000 2020   \n",
       "421701  Sun May 10 22:22:35 +0000 2020   \n",
       "\n",
       "                                            original_text  \\\n",
       "773298  Tom Hanks speech on ”The New World Order” and ...   \n",
       "421701  You never know when you're gonna go! #Death #A...   \n",
       "\n",
       "                                               clean_text  \\\n",
       "773298  Tom Hanks speech ” The New World Order ” after...   \n",
       "421701  You never know 're gon na go Death Afterlife G...   \n",
       "\n",
       "                                                sentiment          location  \\\n",
       "773298  Sentiment(polarity=0.13636363636363635, subjec...           Sverige   \n",
       "421701          Sentiment(polarity=0.0, subjectivity=0.0)  Watford, England   \n",
       "\n",
       "                                               final_text religious_text  \\\n",
       "773298  tom order new https ones speech chosen afterli...      afterlife   \n",
       "421701  death na gon ghost know paranormal afterlife c...      afterlife   \n",
       "\n",
       "       is_religious_tweet  polarity  subjectivity       date  \n",
       "773298                yes  0.136364      0.454545 2020-05-10  \n",
       "421701                yes  0.000000      0.000000 2020-05-10  "
      ]
     },
     "execution_count": 159,
     "metadata": {},
     "output_type": "execute_result"
    }
   ],
   "source": [
    "religion_df=df.loc[df['religious_text']!='']\n",
    "religion_df=religion_df.sort_values('religious_text')\n",
    "religion_df.head(2)"
   ]
  },
  {
   "cell_type": "code",
   "execution_count": 160,
   "metadata": {},
   "outputs": [],
   "source": [
    "non_religion_df=df.loc[df['religious_text']=='']"
   ]
  },
  {
   "cell_type": "code",
   "execution_count": 161,
   "metadata": {},
   "outputs": [
    {
     "name": "stdout",
     "output_type": "stream",
     "text": [
      "(1292097, 11) (242267, 11) (1049830, 11)\n"
     ]
    }
   ],
   "source": [
    "print(df.shape, religion_df.shape, non_religion_df.shape)"
   ]
  },
  {
   "cell_type": "code",
   "execution_count": null,
   "metadata": {},
   "outputs": [],
   "source": [
    "\n",
    "\n",
    "\n",
    "\n",
    "\n",
    "\n",
    "\n",
    "\n",
    "\n",
    "\n",
    "\n",
    "\n",
    "\n",
    "\n",
    "\n",
    "\n",
    "\n",
    "\n",
    "\n",
    "\n",
    "\n"
   ]
  },
  {
   "cell_type": "markdown",
   "metadata": {},
   "source": [
    "######################### ------------------------------- #########################"
   ]
  },
  {
   "cell_type": "code",
   "execution_count": null,
   "metadata": {},
   "outputs": [],
   "source": [
    "\n",
    "\n",
    "\n",
    "\n",
    "\n",
    "\n",
    "\n",
    "\n",
    "\n",
    "\n",
    "\n",
    "\n",
    "\n",
    "\n",
    "\n",
    "\n",
    "\n",
    "\n",
    "\n",
    "\n",
    "\n",
    "\n",
    "\n",
    "\n",
    "\n"
   ]
  },
  {
   "cell_type": "code",
   "execution_count": null,
   "metadata": {},
   "outputs": [],
   "source": []
  },
  {
   "cell_type": "code",
   "execution_count": null,
   "metadata": {},
   "outputs": [],
   "source": []
  },
  {
   "cell_type": "code",
   "execution_count": null,
   "metadata": {},
   "outputs": [],
   "source": []
  },
  {
   "cell_type": "code",
   "execution_count": null,
   "metadata": {},
   "outputs": [],
   "source": []
  },
  {
   "cell_type": "code",
   "execution_count": null,
   "metadata": {},
   "outputs": [],
   "source": []
  },
  {
   "cell_type": "code",
   "execution_count": null,
   "metadata": {},
   "outputs": [],
   "source": []
  },
  {
   "cell_type": "code",
   "execution_count": null,
   "metadata": {},
   "outputs": [],
   "source": []
  },
  {
   "cell_type": "code",
   "execution_count": null,
   "metadata": {},
   "outputs": [],
   "source": []
  },
  {
   "cell_type": "code",
   "execution_count": null,
   "metadata": {},
   "outputs": [],
   "source": []
  },
  {
   "cell_type": "code",
   "execution_count": null,
   "metadata": {},
   "outputs": [],
   "source": []
  },
  {
   "cell_type": "code",
   "execution_count": null,
   "metadata": {},
   "outputs": [],
   "source": []
  },
  {
   "cell_type": "code",
   "execution_count": null,
   "metadata": {},
   "outputs": [],
   "source": []
  },
  {
   "cell_type": "code",
   "execution_count": null,
   "metadata": {},
   "outputs": [],
   "source": [
    "def clean_twitter(text):\n",
    "    text = \"\".join([word.lower() for word in text if word not in string.punctuation])\n",
    "    tokens = re.split('\\W+', text)\n",
    "    text = [ps.stem(wl.lemmatize(word)) for word in tokens if word not in stopwords]\n",
    "    return text"
   ]
  },
  {
   "cell_type": "code",
   "execution_count": null,
   "metadata": {},
   "outputs": [],
   "source": [
    "def count_punct(text):\n",
    "    count = sum([1 for char in text if char in string.punctuation])\n",
    "    return round(count/(len(text) - text.count(\" \")), 3)*100\n",
    "\n",
    "df['text_len'] = df['original_text'].apply(lambda x: len(x) - x.count(\" \"))\n",
    "df['punct%'] = df['original_text'].apply(lambda x: count_punct(x))"
   ]
  },
  {
   "cell_type": "code",
   "execution_count": null,
   "metadata": {},
   "outputs": [],
   "source": [
    "df.head(2)"
   ]
  },
  {
   "cell_type": "code",
   "execution_count": null,
   "metadata": {},
   "outputs": [],
   "source": [
    "# tfidf_vect = TfidfVectorizer(analyzer=clean_text)\n",
    "# tfidf_vect_fit = tfidf_vect.fit(df['original_text'])\n",
    "# tfidf_data = tfidf_vect_fit.transform(df['original_text'])\n",
    "\n",
    "\n",
    "# vect_df = pd.concat([df[['text_len', 'punct%']].reset_index(drop=True), pd.DataFrame(tfidf_data.toarray())], axis=1)\n",
    "# vect_df.head(2)"
   ]
  },
  {
   "cell_type": "code",
   "execution_count": null,
   "metadata": {},
   "outputs": [],
   "source": []
  },
  {
   "cell_type": "code",
   "execution_count": null,
   "metadata": {},
   "outputs": [],
   "source": []
  }
 ],
 "metadata": {
  "kernelspec": {
   "display_name": "Python 3",
   "language": "python",
   "name": "python3"
  },
  "language_info": {
   "codemirror_mode": {
    "name": "ipython",
    "version": 3
   },
   "file_extension": ".py",
   "mimetype": "text/x-python",
   "name": "python",
   "nbconvert_exporter": "python",
   "pygments_lexer": "ipython3",
   "version": "3.7.4"
  }
 },
 "nbformat": 4,
 "nbformat_minor": 4
}
